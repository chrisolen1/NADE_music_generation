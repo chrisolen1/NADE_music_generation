{
 "cells": [
  {
   "cell_type": "code",
   "execution_count": 40,
   "metadata": {},
   "outputs": [],
   "source": [
    "import pandas as pd\n",
    "import numpy as np\n",
    "\n",
    "import shutil\n",
    "import os\n",
    "import time\n",
    "from tqdm import tqdm\n",
    "from tqdm import tqdm_notebook as tqdm_notebook\n",
    "\n",
    "import spotipy\n",
    "import spotipy.util as util\n",
    "\n",
    "from requests.exceptions import ConnectionError \n",
    "from requests.exceptions import HTTPError\n",
    "from requests.exceptions import SSLError\n",
    "from urllib3.exceptions import MaxRetryError\n",
    "\n"
   ]
  },
  {
   "cell_type": "code",
   "execution_count": 41,
   "metadata": {},
   "outputs": [],
   "source": [
    "# Directories\n",
    "\n",
    "data_dir = \"/Users/chrisolen/Documents/uchicago_courses/deep_learning_and_image_recognition/audio_generation/data/\"\n",
    "scripts_dir = \"/Users/chrisolen/Documents/uchicago_courses/deep_learning_and_image_recognition/audio_generation/NADE_music_generation/\""
   ]
  },
  {
   "cell_type": "markdown",
   "metadata": {},
   "source": [
    "# Midi File Local Organization\n",
    "Download LMD-Matched from: https://colinraffel.com/projects/lmd/"
   ]
  },
  {
   "cell_type": "code",
   "execution_count": 53,
   "metadata": {},
   "outputs": [],
   "source": [
    "'''\n",
    "\n",
    "# Moving into a single directory\n",
    "\n",
    "# Location to move all midi files:\n",
    "\n",
    "destination = data_dir+\"midi_files/\"\n",
    "\n",
    "# Iterating through original file system:\n",
    "\n",
    "source = data_dir+\"lmd_matched/\"\n",
    "level_1 = os.listdir(source)\n",
    "for i in range(len(level_1)):\n",
    "    if level_1[i] != \".DS_Store\":\n",
    "        level_2 = os.listdir(source+level_1[i]+\"/\")\n",
    "        for j in range(len(level_2)):\n",
    "            if level_2[j] != \".DS_Store\":\n",
    "                level_3 = os.listdir(source+level_1[i]+\"/\"+level_2[j]+\"/\")\n",
    "                for k in range(len(level_3)):\n",
    "                    if level_3[k] != \".DS_Store\":\n",
    "                        level_4 = os.listdir(source+level_1[i]+\"/\"+level_2[j]+\"/\"+level_3[k]+\"/\")\n",
    "                        for f in range(len(level_4)):\n",
    "                            if level_4[f] != \".DS_Store\":\n",
    "                                shutil.move(source+level_1[i]+\"/\"+level_2[j]+\"/\"+level_3[k]+\"/\"+level_4[f],destination)\n",
    "                \n",
    "                \n",
    "'''        \n"
   ]
  },
  {
   "cell_type": "markdown",
   "metadata": {},
   "source": [
    "# Song and Artist Reference Name Text File\n",
    "Download \"all track Echo Nest ID\" here: http://millionsongdataset.com/pages/getting-dataset/"
   ]
  },
  {
   "cell_type": "code",
   "execution_count": 42,
   "metadata": {},
   "outputs": [],
   "source": [
    "# Read in textfile of 'Million Song Dataset' names:\n",
    "\n",
    "file = open(data_dir+\"songlist_with_mbid.txt\", 'r')\n",
    "lines = np.array(file.readlines())"
   ]
  },
  {
   "cell_type": "code",
   "execution_count": 43,
   "metadata": {},
   "outputs": [],
   "source": [
    "# Remove newline markers:\n",
    "\n",
    "cleaned_lines = [lines[i].replace(\"\\n\",\"\") for i in range(len(lines))]\n",
    "\n",
    "# Split along \"<SEP>\"\n",
    "\n",
    "split_lines = [cleaned_lines[i].split(\"<SEP>\") for i in range(len(cleaned_lines))] "
   ]
  },
  {
   "cell_type": "code",
   "execution_count": 44,
   "metadata": {},
   "outputs": [],
   "source": [
    "# Merge into dataframe:\n",
    "\n",
    "tracks = pd.DataFrame.from_records(split_lines)\n",
    "tracks.rename(columns={0:\"track_id\",1:\"mb_id\",2:\"artist\",3:\"song_title\"},inplace=True)\n"
   ]
  },
  {
   "cell_type": "code",
   "execution_count": 45,
   "metadata": {},
   "outputs": [],
   "source": [
    "# Removing 'feat.' from the artists field:\n",
    "\n",
    "cleaned_artist = [tracks['artist'].iloc[i] if 'Feat.' not in tracks['artist'].iloc[i] else tracks['artist'].iloc[i].replace(tracks['artist'].iloc[i],tracks['artist'].iloc[i][tracks['artist'].iloc[i].find('Feat.'):][6:]) for i in range(len(tracks))]\n",
    "\n",
    "cleaned_artist_2 = [cleaned_artist[i] if 'feat.' not in cleaned_artist[i] else cleaned_artist[i].replace(cleaned_artist[i],cleaned_artist[i][cleaned_artist[i].find('feat.'):][6:]) for i in range(len(cleaned_artist))]\n",
    "\n",
    "\n",
    "\n",
    "\n"
   ]
  },
  {
   "cell_type": "code",
   "execution_count": 46,
   "metadata": {},
   "outputs": [],
   "source": [
    "tracks['artist'] = cleaned_artist_2"
   ]
  },
  {
   "cell_type": "code",
   "execution_count": 47,
   "metadata": {},
   "outputs": [
    {
     "data": {
      "text/html": [
       "<div>\n",
       "<style scoped>\n",
       "    .dataframe tbody tr th:only-of-type {\n",
       "        vertical-align: middle;\n",
       "    }\n",
       "\n",
       "    .dataframe tbody tr th {\n",
       "        vertical-align: top;\n",
       "    }\n",
       "\n",
       "    .dataframe thead th {\n",
       "        text-align: right;\n",
       "    }\n",
       "</style>\n",
       "<table border=\"1\" class=\"dataframe\">\n",
       "  <thead>\n",
       "    <tr style=\"text-align: right;\">\n",
       "      <th></th>\n",
       "      <th>track_id</th>\n",
       "      <th>mb_id</th>\n",
       "      <th>artist</th>\n",
       "      <th>song_title</th>\n",
       "    </tr>\n",
       "  </thead>\n",
       "  <tbody>\n",
       "    <tr>\n",
       "      <td>0</td>\n",
       "      <td>TROXMWJ12903CF4396</td>\n",
       "      <td>f275d9a5-3271-436b-8c32-806ec275e23c</td>\n",
       "      <td>Arnold Jarvis</td>\n",
       "      <td>Life Goes On</td>\n",
       "    </tr>\n",
       "    <tr>\n",
       "      <td>1</td>\n",
       "      <td>TRDDLOD128F92FF922</td>\n",
       "      <td>f26c72d3-e52c-467b-b651-679c73d8e1a7</td>\n",
       "      <td>!!!</td>\n",
       "      <td>A New Name</td>\n",
       "    </tr>\n",
       "    <tr>\n",
       "      <td>2</td>\n",
       "      <td>TRGCKLJ128F92FF90E</td>\n",
       "      <td>f26c72d3-e52c-467b-b651-679c73d8e1a7</td>\n",
       "      <td>!!!</td>\n",
       "      <td>All My Heroes Are Weirdos</td>\n",
       "    </tr>\n",
       "    <tr>\n",
       "      <td>3</td>\n",
       "      <td>TRRKQQU128F92FF947</td>\n",
       "      <td>f26c72d3-e52c-467b-b651-679c73d8e1a7</td>\n",
       "      <td>!!!</td>\n",
       "      <td>Bend Over Beethoven</td>\n",
       "    </tr>\n",
       "    <tr>\n",
       "      <td>4</td>\n",
       "      <td>TRZRBYS128F92FF94F</td>\n",
       "      <td>f26c72d3-e52c-467b-b651-679c73d8e1a7</td>\n",
       "      <td>!!!</td>\n",
       "      <td>Break In Case Of Anything</td>\n",
       "    </tr>\n",
       "  </tbody>\n",
       "</table>\n",
       "</div>"
      ],
      "text/plain": [
       "             track_id                                 mb_id         artist  \\\n",
       "0  TROXMWJ12903CF4396  f275d9a5-3271-436b-8c32-806ec275e23c  Arnold Jarvis   \n",
       "1  TRDDLOD128F92FF922  f26c72d3-e52c-467b-b651-679c73d8e1a7            !!!   \n",
       "2  TRGCKLJ128F92FF90E  f26c72d3-e52c-467b-b651-679c73d8e1a7            !!!   \n",
       "3  TRRKQQU128F92FF947  f26c72d3-e52c-467b-b651-679c73d8e1a7            !!!   \n",
       "4  TRZRBYS128F92FF94F  f26c72d3-e52c-467b-b651-679c73d8e1a7            !!!   \n",
       "\n",
       "                  song_title  \n",
       "0               Life Goes On  \n",
       "1                 A New Name  \n",
       "2  All My Heroes Are Weirdos  \n",
       "3        Bend Over Beethoven  \n",
       "4  Break In Case Of Anything  "
      ]
     },
     "execution_count": 47,
     "metadata": {},
     "output_type": "execute_result"
    }
   ],
   "source": [
    "tracks.head()"
   ]
  },
  {
   "cell_type": "code",
   "execution_count": 48,
   "metadata": {},
   "outputs": [
    {
     "data": {
      "text/plain": [
       "(1000000, 4)"
      ]
     },
     "execution_count": 48,
     "metadata": {},
     "output_type": "execute_result"
    }
   ],
   "source": [
    "tracks.shape"
   ]
  },
  {
   "cell_type": "markdown",
   "metadata": {},
   "source": [
    "# Retaining Only Records for Which Midi Files Exist"
   ]
  },
  {
   "cell_type": "code",
   "execution_count": 49,
   "metadata": {},
   "outputs": [
    {
     "data": {
      "text/plain": [
       "(31032, 4)"
      ]
     },
     "execution_count": 49,
     "metadata": {},
     "output_type": "execute_result"
    }
   ],
   "source": [
    "unique_tracks = os.listdir(data_dir+'midi_files')\n",
    "tracks = tracks[tracks['track_id'].isin(unique_tracks)]\n",
    "tracks.shape"
   ]
  },
  {
   "cell_type": "code",
   "execution_count": 50,
   "metadata": {},
   "outputs": [
    {
     "data": {
      "text/html": [
       "<div>\n",
       "<style scoped>\n",
       "    .dataframe tbody tr th:only-of-type {\n",
       "        vertical-align: middle;\n",
       "    }\n",
       "\n",
       "    .dataframe tbody tr th {\n",
       "        vertical-align: top;\n",
       "    }\n",
       "\n",
       "    .dataframe thead th {\n",
       "        text-align: right;\n",
       "    }\n",
       "</style>\n",
       "<table border=\"1\" class=\"dataframe\">\n",
       "  <thead>\n",
       "    <tr style=\"text-align: right;\">\n",
       "      <th></th>\n",
       "      <th>track_id</th>\n",
       "      <th>mb_id</th>\n",
       "      <th>artist</th>\n",
       "      <th>song_title</th>\n",
       "    </tr>\n",
       "  </thead>\n",
       "  <tbody>\n",
       "    <tr>\n",
       "      <td>277</td>\n",
       "      <td>TRBQUUS12903CB2580</td>\n",
       "      <td>7b28fb58-882b-4907-856e-ef327b624b11</td>\n",
       "      <td>+ / - {Plus/Minus}</td>\n",
       "      <td>Flight Data Recorder</td>\n",
       "    </tr>\n",
       "    <tr>\n",
       "      <td>300</td>\n",
       "      <td>TRRXTJI12903D01048</td>\n",
       "      <td>6bd4eaa7-aa1c-4138-a392-41693229c7fc</td>\n",
       "      <td>+39</td>\n",
       "      <td>My Relax</td>\n",
       "    </tr>\n",
       "    <tr>\n",
       "      <td>463</td>\n",
       "      <td>TRMKKFV12903CB7EA4</td>\n",
       "      <td></td>\n",
       "      <td>...arrived at ten</td>\n",
       "      <td>Flake</td>\n",
       "    </tr>\n",
       "    <tr>\n",
       "      <td>522</td>\n",
       "      <td>TRNVJXQ128F14AFD63</td>\n",
       "      <td>2fc659fa-293f-4288-bff5-29447f31f628</td>\n",
       "      <td>1. Futurologischer Congress</td>\n",
       "      <td>Atem</td>\n",
       "    </tr>\n",
       "    <tr>\n",
       "      <td>574</td>\n",
       "      <td>TRLIEDO12903CA41B4</td>\n",
       "      <td>f37c537b-3557-4031-bfd6-ab63ced32854</td>\n",
       "      <td>10 CC</td>\n",
       "      <td>The Things We Do For Love</td>\n",
       "    </tr>\n",
       "  </tbody>\n",
       "</table>\n",
       "</div>"
      ],
      "text/plain": [
       "               track_id                                 mb_id  \\\n",
       "277  TRBQUUS12903CB2580  7b28fb58-882b-4907-856e-ef327b624b11   \n",
       "300  TRRXTJI12903D01048  6bd4eaa7-aa1c-4138-a392-41693229c7fc   \n",
       "463  TRMKKFV12903CB7EA4                                         \n",
       "522  TRNVJXQ128F14AFD63  2fc659fa-293f-4288-bff5-29447f31f628   \n",
       "574  TRLIEDO12903CA41B4  f37c537b-3557-4031-bfd6-ab63ced32854   \n",
       "\n",
       "                          artist                 song_title  \n",
       "277           + / - {Plus/Minus}       Flight Data Recorder  \n",
       "300                          +39                   My Relax  \n",
       "463            ...arrived at ten                      Flake  \n",
       "522  1. Futurologischer Congress                       Atem  \n",
       "574                        10 CC  The Things We Do For Love  "
      ]
     },
     "execution_count": 50,
     "metadata": {},
     "output_type": "execute_result"
    }
   ],
   "source": [
    "tracks.head()"
   ]
  },
  {
   "cell_type": "markdown",
   "metadata": {},
   "source": [
    "# Spotify API Authentication and Calls"
   ]
  },
  {
   "cell_type": "code",
   "execution_count": 756,
   "metadata": {},
   "outputs": [],
   "source": [
    "# Function to authenticate using credentials:\n",
    "\n",
    "def auth_spotify(my_username, chosen_scope, my_client_id, my_client_secret, my_redirect_uri):\n",
    "    token = util.prompt_for_user_token(username=my_username,\n",
    "                                       scope=chosen_scope,\n",
    "                                       client_id=my_client_id,\n",
    "                                       client_secret=my_client_secret,\n",
    "                                       redirect_uri=my_redirect_uri)\n",
    "    sp = spotipy.Spotify(auth=token, requests_timeout=180)\n",
    "    return sp\n",
    "\n",
    "\n"
   ]
  },
  {
   "cell_type": "code",
   "execution_count": 757,
   "metadata": {},
   "outputs": [],
   "source": [
    "# Define credentials:\n",
    "\n",
    "my_username=\"chrisolen\"\n",
    "chosen_scope='user-library-read'\n",
    "my_client_id='###########'\n",
    "my_client_secret='###########'\n",
    "my_redirect_uri='https://grahamschool.uchicago.edu/academic-programs/masters-degrees/analytics'\n"
   ]
  },
  {
   "cell_type": "code",
   "execution_count": 758,
   "metadata": {},
   "outputs": [],
   "source": [
    "# Authenticate:\n",
    "\n",
    "sp = auth_spotify(my_username,\n",
    "               chosen_scope,\n",
    "               my_client_id,\n",
    "               my_client_secret,\n",
    "               my_redirect_uri)"
   ]
  },
  {
   "cell_type": "code",
   "execution_count": 771,
   "metadata": {},
   "outputs": [],
   "source": [
    "# Function for one round of hitting the API (for a given track):\n",
    "\n",
    "def hit_spotify(track_name, artist_name, my_username, chosen_scope, my_client_id, my_client_secret, my_redirect_uri):\n",
    "    \n",
    "    sp = ''\n",
    "    while sp == '':\n",
    "        try:\n",
    "            sp = auth_spotify(my_username,\n",
    "                   chosen_scope,\n",
    "                   my_client_id,\n",
    "                   my_client_secret,\n",
    "                   my_redirect_uri)\n",
    "        except (spotipy.client.SpotifyException, ConnectionError, MaxRetryError, TimeoutError, SSLError, HTTPError):\n",
    "            tqdm.write(\"Going to sleep for 1 minute - Errored out on initial connect attempt\")\n",
    "            time.sleep(60)\n",
    "        \n",
    "    track_result = ''\n",
    "    features = ''\n",
    "    while track_result == '' and features == '':\n",
    "        try:\n",
    "            track_result = sp.search(q=track_name+\" \"+artist_name,type='track')\n",
    "            track_id = track_result['tracks']['items'][0]['id']\n",
    "            artist_id = track_result['tracks']['items'][0]['artists'][0]['id']\n",
    "            features = sp.audio_features(track_id)\n",
    "            time_sig = features[0]['time_signature'] \n",
    "            tempo = features[0]['tempo'] \n",
    "            energy = features[0]['energy'] \n",
    "            loudness = features[0]['loudness'] \n",
    "            speechiness = features[0]['speechiness'] \n",
    "            acousticness = features[0]['acousticness']\n",
    "            instrumentalness = features[0]['instrumentalness'] \n",
    "            genre = sp.artists([artist_id])['artists'][0]['genres']\n",
    "            result = np.array([track_id, artist_id, time_sig, tempo, energy, loudness, speechiness, acousticness, instrumentalness, genre])\n",
    "            return result\n",
    "        except (IndexError, TypeError): # Return NoneType when there are no results\n",
    "            pass\n",
    "        except (spotipy.client.SpotifyException, ConnectionError, MaxRetryError, TimeoutError, SSLError, HTTPError):\n",
    "            tqdm.write(\"Going to sleep for 1 minute - Errored out on call\")\n",
    "            time.sleep(60)\n",
    "            sp = auth_spotify(my_username, # Reauthenticate when the token expires\n",
    "                   chosen_scope,\n",
    "                   my_client_id,\n",
    "                   my_client_secret,\n",
    "                   my_redirect_uri)\n",
    "            continue\n",
    "        \n",
    "        "
   ]
  },
  {
   "cell_type": "code",
   "execution_count": 772,
   "metadata": {},
   "outputs": [
    {
     "data": {
      "application/vnd.jupyter.widget-view+json": {
       "model_id": "",
       "version_major": 2,
       "version_minor": 0
      },
      "text/plain": [
       "HBox(children=(IntProgress(value=0, max=4447), HTML(value='')))"
      ]
     },
     "metadata": {},
     "output_type": "display_data"
    },
    {
     "name": "stdout",
     "output_type": "stream",
     "text": [
      "retrying ...1secs\n",
      "retrying ...1secs\n",
      "retrying ...1secs\n",
      "retrying ...1secs\n"
     ]
    }
   ],
   "source": [
    "# API calls:\n",
    "\n",
    "for i in tqdm_notebook(range(26585,len(tracks)), mininterval = 5.0, leave = False):\n",
    "    result_array = hit_spotify(tracks.iloc[i]['song_title'], tracks.iloc[i]['artist'],my_username=\"chrisolen\",\n",
    "                              chosen_scope='user-library-read', my_client_id=my_client_id,\n",
    "                              my_client_secret=my_client_secret,\n",
    "                               my_redirect_uri='https://grahamschool.uchicago.edu/academic-programs/masters-degrees/analytics')\n",
    "    try:\n",
    "        with open(scripts_dir+\"data_cleaning_scripts/track_metadata.txt\",\"ab\") as textfile:\n",
    "            np.savetxt(textfile,result_array.reshape(1, result_array.shape[0]), fmt=\"%s\", delimiter=' | ')\n",
    "    except AttributeError: \n",
    "        with open(scripts_dir+\"data_cleaning_scripts/track_metadata.txt\",\"ab\") as textfile:\n",
    "            np.savetxt(textfile,np.array([np.NaN]), fmt=\"%s\", delimiter=' | ')\n",
    "        \n",
    "        \n",
    "    "
   ]
  },
  {
   "cell_type": "markdown",
   "metadata": {},
   "source": [
    "# Cleaning Up Spotify Metadata"
   ]
  },
  {
   "cell_type": "code",
   "execution_count": 51,
   "metadata": {},
   "outputs": [],
   "source": [
    "textfile = open(scripts_dir+\"data_cleaning_scripts/track_metadata.txt\", 'r')\n",
    "track_features = np.array(textfile.readlines())"
   ]
  },
  {
   "cell_type": "code",
   "execution_count": 52,
   "metadata": {},
   "outputs": [
    {
     "data": {
      "text/plain": [
       "array(['5aXSB4ywBWcPVBuOqxJAsZ | 4j4NbPKY5EnsEUhdNICINb | 3 | 108.021 | 0.584 | -9.032 | 0.027 | 0.00184 | 0.155 | []\\n',\n",
       "       '2j7kfbjTPqpaYHide0hFxi | 5Cicr7PrzTNv4bXiZntlex | 4 | 119.997 | 0.553 | -7.488 | 0.216 | 0.00514 | 0.869 | []\\n',\n",
       "       '1T3zWGYGHIAX36IHYHL9Ar | 49myFlNbBmL4X25pekwLqR | 4 | 106.003 | 0.437 | -12.814 | 0.0261 | 0.913 | 0.881 | []\\n',\n",
       "       ...,\n",
       "       \"0wY6UGmdUSOs38DDKMfNfA | 7E3BRXV9ZbCt5lQTCXMTia | 4 | 135.456 | 0.0292 | -23.61 | 0.0346 | 0.967 | 0.968 | ['bow pop', 'chamber pop', 'compositional ambient', 'focus', 'icelandic classical', 'neo-classical', 'neoclassical']\\n\",\n",
       "       \"4HMHfABjrAez8PucpSM6Qe | 7E3BRXV9ZbCt5lQTCXMTia | 4 | 89.852 | 0.272 | -14.941 | 0.0281 | 0.92 | 0.836 | ['bow pop', 'chamber pop', 'compositional ambient', 'focus', 'icelandic classical', 'neo-classical', 'neoclassical']\\n\",\n",
       "       \"1i9YBowsDKdycECqeloT9I | 1yZbA9817FU14OeRIJ1Dig | 4 | 125.018 | 0.87 | -11.325 | 0.0425 | 0.059 | 0.538 | ['future ambient']\\n\"],\n",
       "      dtype='<U414')"
      ]
     },
     "execution_count": 52,
     "metadata": {},
     "output_type": "execute_result"
    }
   ],
   "source": [
    "track_features"
   ]
  },
  {
   "cell_type": "code",
   "execution_count": 53,
   "metadata": {},
   "outputs": [],
   "source": [
    "# Remove newline markers:\n",
    "\n",
    "cleaned_features = [track_features[i].replace(\"\\n\",\"\") for i in range(len(track_features))]\n",
    "\n",
    "# Split along \" | \"\n",
    "\n",
    "split_features = [cleaned_features[i].split(\" | \") for i in range(len(cleaned_features))] "
   ]
  },
  {
   "cell_type": "code",
   "execution_count": 54,
   "metadata": {},
   "outputs": [],
   "source": [
    "# Make the 'nan' lists have the same dimensions as the others:\n",
    "\n",
    "indexes = [i for i,x in enumerate(split_features) if x[0] == 'nan']\n",
    "\n",
    "extended = ['nan','nan','nan','nan','nan','nan','nan','nan','nan',['nan']]\n",
    "\n",
    "for i in range(len(indexes)):\n",
    "    split_features[indexes[i]] = extended"
   ]
  },
  {
   "cell_type": "code",
   "execution_count": 55,
   "metadata": {},
   "outputs": [],
   "source": [
    "# Throwing the spotify features in a dataframe:\n",
    "\n",
    "spotify_features = pd.DataFrame(split_features, columns = ['sp_track_id', 'sp_artist_id', 'time_sig', 'tempo', 'energy', \n",
    "                                                             'loudness', 'speechiness', 'acousticness', \n",
    "                                                             'instrumentalness', 'genre'])"
   ]
  },
  {
   "cell_type": "code",
   "execution_count": 56,
   "metadata": {},
   "outputs": [
    {
     "data": {
      "text/html": [
       "<div>\n",
       "<style scoped>\n",
       "    .dataframe tbody tr th:only-of-type {\n",
       "        vertical-align: middle;\n",
       "    }\n",
       "\n",
       "    .dataframe tbody tr th {\n",
       "        vertical-align: top;\n",
       "    }\n",
       "\n",
       "    .dataframe thead th {\n",
       "        text-align: right;\n",
       "    }\n",
       "</style>\n",
       "<table border=\"1\" class=\"dataframe\">\n",
       "  <thead>\n",
       "    <tr style=\"text-align: right;\">\n",
       "      <th></th>\n",
       "      <th>sp_track_id</th>\n",
       "      <th>sp_artist_id</th>\n",
       "      <th>time_sig</th>\n",
       "      <th>tempo</th>\n",
       "      <th>energy</th>\n",
       "      <th>loudness</th>\n",
       "      <th>speechiness</th>\n",
       "      <th>acousticness</th>\n",
       "      <th>instrumentalness</th>\n",
       "      <th>genre</th>\n",
       "    </tr>\n",
       "  </thead>\n",
       "  <tbody>\n",
       "    <tr>\n",
       "      <td>0</td>\n",
       "      <td>5aXSB4ywBWcPVBuOqxJAsZ</td>\n",
       "      <td>4j4NbPKY5EnsEUhdNICINb</td>\n",
       "      <td>3</td>\n",
       "      <td>108.021</td>\n",
       "      <td>0.584</td>\n",
       "      <td>-9.032</td>\n",
       "      <td>0.027</td>\n",
       "      <td>0.00184</td>\n",
       "      <td>0.155</td>\n",
       "      <td>[]</td>\n",
       "    </tr>\n",
       "    <tr>\n",
       "      <td>1</td>\n",
       "      <td>2j7kfbjTPqpaYHide0hFxi</td>\n",
       "      <td>5Cicr7PrzTNv4bXiZntlex</td>\n",
       "      <td>4</td>\n",
       "      <td>119.997</td>\n",
       "      <td>0.553</td>\n",
       "      <td>-7.488</td>\n",
       "      <td>0.216</td>\n",
       "      <td>0.00514</td>\n",
       "      <td>0.869</td>\n",
       "      <td>[]</td>\n",
       "    </tr>\n",
       "    <tr>\n",
       "      <td>2</td>\n",
       "      <td>1T3zWGYGHIAX36IHYHL9Ar</td>\n",
       "      <td>49myFlNbBmL4X25pekwLqR</td>\n",
       "      <td>4</td>\n",
       "      <td>106.003</td>\n",
       "      <td>0.437</td>\n",
       "      <td>-12.814</td>\n",
       "      <td>0.0261</td>\n",
       "      <td>0.913</td>\n",
       "      <td>0.881</td>\n",
       "      <td>[]</td>\n",
       "    </tr>\n",
       "    <tr>\n",
       "      <td>3</td>\n",
       "      <td>6bsV04oYvnEEh2tmMzbuE3</td>\n",
       "      <td>6MD8yUEX0V8XJR2Xrwz0HO</td>\n",
       "      <td>4</td>\n",
       "      <td>136.25</td>\n",
       "      <td>0.883</td>\n",
       "      <td>-7.47</td>\n",
       "      <td>0.0513</td>\n",
       "      <td>0.0366</td>\n",
       "      <td>0.00704</td>\n",
       "      <td>['neue deutsche welle']</td>\n",
       "    </tr>\n",
       "    <tr>\n",
       "      <td>4</td>\n",
       "      <td>nan</td>\n",
       "      <td>nan</td>\n",
       "      <td>nan</td>\n",
       "      <td>nan</td>\n",
       "      <td>nan</td>\n",
       "      <td>nan</td>\n",
       "      <td>nan</td>\n",
       "      <td>nan</td>\n",
       "      <td>nan</td>\n",
       "      <td>[nan]</td>\n",
       "    </tr>\n",
       "  </tbody>\n",
       "</table>\n",
       "</div>"
      ],
      "text/plain": [
       "              sp_track_id            sp_artist_id time_sig    tempo energy  \\\n",
       "0  5aXSB4ywBWcPVBuOqxJAsZ  4j4NbPKY5EnsEUhdNICINb        3  108.021  0.584   \n",
       "1  2j7kfbjTPqpaYHide0hFxi  5Cicr7PrzTNv4bXiZntlex        4  119.997  0.553   \n",
       "2  1T3zWGYGHIAX36IHYHL9Ar  49myFlNbBmL4X25pekwLqR        4  106.003  0.437   \n",
       "3  6bsV04oYvnEEh2tmMzbuE3  6MD8yUEX0V8XJR2Xrwz0HO        4   136.25  0.883   \n",
       "4                     nan                     nan      nan      nan    nan   \n",
       "\n",
       "  loudness speechiness acousticness instrumentalness                    genre  \n",
       "0   -9.032       0.027      0.00184            0.155                       []  \n",
       "1   -7.488       0.216      0.00514            0.869                       []  \n",
       "2  -12.814      0.0261        0.913            0.881                       []  \n",
       "3    -7.47      0.0513       0.0366          0.00704  ['neue deutsche welle']  \n",
       "4      nan         nan          nan              nan                    [nan]  "
      ]
     },
     "execution_count": 56,
     "metadata": {},
     "output_type": "execute_result"
    }
   ],
   "source": [
    "spotify_features.head()"
   ]
  },
  {
   "cell_type": "markdown",
   "metadata": {},
   "source": [
    "# Merging the Two Frames"
   ]
  },
  {
   "cell_type": "code",
   "execution_count": 57,
   "metadata": {},
   "outputs": [
    {
     "data": {
      "text/html": [
       "<div>\n",
       "<style scoped>\n",
       "    .dataframe tbody tr th:only-of-type {\n",
       "        vertical-align: middle;\n",
       "    }\n",
       "\n",
       "    .dataframe tbody tr th {\n",
       "        vertical-align: top;\n",
       "    }\n",
       "\n",
       "    .dataframe thead th {\n",
       "        text-align: right;\n",
       "    }\n",
       "</style>\n",
       "<table border=\"1\" class=\"dataframe\">\n",
       "  <thead>\n",
       "    <tr style=\"text-align: right;\">\n",
       "      <th></th>\n",
       "      <th>track_id</th>\n",
       "      <th>mb_id</th>\n",
       "      <th>artist</th>\n",
       "      <th>song_title</th>\n",
       "    </tr>\n",
       "  </thead>\n",
       "  <tbody>\n",
       "    <tr>\n",
       "      <td>0</td>\n",
       "      <td>TRBQUUS12903CB2580</td>\n",
       "      <td>7b28fb58-882b-4907-856e-ef327b624b11</td>\n",
       "      <td>+ / - {Plus/Minus}</td>\n",
       "      <td>Flight Data Recorder</td>\n",
       "    </tr>\n",
       "    <tr>\n",
       "      <td>1</td>\n",
       "      <td>TRRXTJI12903D01048</td>\n",
       "      <td>6bd4eaa7-aa1c-4138-a392-41693229c7fc</td>\n",
       "      <td>+39</td>\n",
       "      <td>My Relax</td>\n",
       "    </tr>\n",
       "    <tr>\n",
       "      <td>2</td>\n",
       "      <td>TRMKKFV12903CB7EA4</td>\n",
       "      <td></td>\n",
       "      <td>...arrived at ten</td>\n",
       "      <td>Flake</td>\n",
       "    </tr>\n",
       "    <tr>\n",
       "      <td>3</td>\n",
       "      <td>TRNVJXQ128F14AFD63</td>\n",
       "      <td>2fc659fa-293f-4288-bff5-29447f31f628</td>\n",
       "      <td>1. Futurologischer Congress</td>\n",
       "      <td>Atem</td>\n",
       "    </tr>\n",
       "    <tr>\n",
       "      <td>4</td>\n",
       "      <td>TRLIEDO12903CA41B4</td>\n",
       "      <td>f37c537b-3557-4031-bfd6-ab63ced32854</td>\n",
       "      <td>10 CC</td>\n",
       "      <td>The Things We Do For Love</td>\n",
       "    </tr>\n",
       "  </tbody>\n",
       "</table>\n",
       "</div>"
      ],
      "text/plain": [
       "             track_id                                 mb_id  \\\n",
       "0  TRBQUUS12903CB2580  7b28fb58-882b-4907-856e-ef327b624b11   \n",
       "1  TRRXTJI12903D01048  6bd4eaa7-aa1c-4138-a392-41693229c7fc   \n",
       "2  TRMKKFV12903CB7EA4                                         \n",
       "3  TRNVJXQ128F14AFD63  2fc659fa-293f-4288-bff5-29447f31f628   \n",
       "4  TRLIEDO12903CA41B4  f37c537b-3557-4031-bfd6-ab63ced32854   \n",
       "\n",
       "                        artist                 song_title  \n",
       "0           + / - {Plus/Minus}       Flight Data Recorder  \n",
       "1                          +39                   My Relax  \n",
       "2            ...arrived at ten                      Flake  \n",
       "3  1. Futurologischer Congress                       Atem  \n",
       "4                        10 CC  The Things We Do For Love  "
      ]
     },
     "execution_count": 57,
     "metadata": {},
     "output_type": "execute_result"
    }
   ],
   "source": [
    "# Reseting index of track dataframe to match up with features dataframe:\n",
    "\n",
    "tracks.reset_index(inplace= True)\n",
    "tracks.drop(['index'], axis = 1, inplace = True)\n",
    "tracks.head()"
   ]
  },
  {
   "cell_type": "code",
   "execution_count": 58,
   "metadata": {},
   "outputs": [],
   "source": [
    "# Merging two dateframes:\n",
    "\n",
    "track_metadata = tracks.merge(spotify_features, left_on=tracks.index, right_on=spotify_features.index)"
   ]
  },
  {
   "cell_type": "code",
   "execution_count": null,
   "metadata": {},
   "outputs": [],
   "source": [
    "track_metadata.drop(['key_0'], axis=1, inplace=True)"
   ]
  },
  {
   "cell_type": "code",
   "execution_count": 61,
   "metadata": {},
   "outputs": [
    {
     "data": {
      "text/html": [
       "<div>\n",
       "<style scoped>\n",
       "    .dataframe tbody tr th:only-of-type {\n",
       "        vertical-align: middle;\n",
       "    }\n",
       "\n",
       "    .dataframe tbody tr th {\n",
       "        vertical-align: top;\n",
       "    }\n",
       "\n",
       "    .dataframe thead th {\n",
       "        text-align: right;\n",
       "    }\n",
       "</style>\n",
       "<table border=\"1\" class=\"dataframe\">\n",
       "  <thead>\n",
       "    <tr style=\"text-align: right;\">\n",
       "      <th></th>\n",
       "      <th>track_id</th>\n",
       "      <th>mb_id</th>\n",
       "      <th>artist</th>\n",
       "      <th>song_title</th>\n",
       "      <th>sp_track_id</th>\n",
       "      <th>sp_artist_id</th>\n",
       "      <th>time_sig</th>\n",
       "      <th>tempo</th>\n",
       "      <th>energy</th>\n",
       "      <th>loudness</th>\n",
       "      <th>speechiness</th>\n",
       "      <th>acousticness</th>\n",
       "      <th>instrumentalness</th>\n",
       "      <th>genre</th>\n",
       "    </tr>\n",
       "  </thead>\n",
       "  <tbody>\n",
       "    <tr>\n",
       "      <td>31027</td>\n",
       "      <td>TRJMGED128F1485763</td>\n",
       "      <td>1e0de31c-4957-4649-9aa3-7b0f1d9d2c84</td>\n",
       "      <td>Étienne Daho</td>\n",
       "      <td>Quelqu'un Qui M'ressemble (Démo)</td>\n",
       "      <td>nan</td>\n",
       "      <td>nan</td>\n",
       "      <td>nan</td>\n",
       "      <td>nan</td>\n",
       "      <td>nan</td>\n",
       "      <td>nan</td>\n",
       "      <td>nan</td>\n",
       "      <td>nan</td>\n",
       "      <td>nan</td>\n",
       "      <td>[nan]</td>\n",
       "    </tr>\n",
       "    <tr>\n",
       "      <td>31028</td>\n",
       "      <td>TRXFHVQ128F1453822</td>\n",
       "      <td>1e0de31c-4957-4649-9aa3-7b0f1d9d2c84</td>\n",
       "      <td>Étienne Daho</td>\n",
       "      <td>Saudade  (Live 2004)</td>\n",
       "      <td>3fJymrFJ6BlODWK0QzuVlH</td>\n",
       "      <td>5aDKJuLDczfmHfRSOmHCJk</td>\n",
       "      <td>4</td>\n",
       "      <td>116.905</td>\n",
       "      <td>0.966</td>\n",
       "      <td>-2.431</td>\n",
       "      <td>0.0421</td>\n",
       "      <td>0.0112</td>\n",
       "      <td>0.000326</td>\n",
       "      <td>['chanson', 'french indie pop', 'french indiet...</td>\n",
       "    </tr>\n",
       "    <tr>\n",
       "      <td>31029</td>\n",
       "      <td>TRGSZLI128F4230F3A</td>\n",
       "      <td>6655955b-1c1e-4bcb-84e4-81bcd9efab30</td>\n",
       "      <td>Ólafur Arnalds</td>\n",
       "      <td>0040</td>\n",
       "      <td>0wY6UGmdUSOs38DDKMfNfA</td>\n",
       "      <td>7E3BRXV9ZbCt5lQTCXMTia</td>\n",
       "      <td>4</td>\n",
       "      <td>135.456</td>\n",
       "      <td>0.0292</td>\n",
       "      <td>-23.61</td>\n",
       "      <td>0.0346</td>\n",
       "      <td>0.967</td>\n",
       "      <td>0.968</td>\n",
       "      <td>['bow pop', 'chamber pop', 'compositional ambi...</td>\n",
       "    </tr>\n",
       "    <tr>\n",
       "      <td>31030</td>\n",
       "      <td>TRIAHBB128F930136B</td>\n",
       "      <td>6655955b-1c1e-4bcb-84e4-81bcd9efab30</td>\n",
       "      <td>Ólafur Arnalds</td>\n",
       "      <td>Þau hafa sloppið undan þunga myrkursins</td>\n",
       "      <td>4HMHfABjrAez8PucpSM6Qe</td>\n",
       "      <td>7E3BRXV9ZbCt5lQTCXMTia</td>\n",
       "      <td>4</td>\n",
       "      <td>89.852</td>\n",
       "      <td>0.272</td>\n",
       "      <td>-14.941</td>\n",
       "      <td>0.0281</td>\n",
       "      <td>0.92</td>\n",
       "      <td>0.836</td>\n",
       "      <td>['bow pop', 'chamber pop', 'compositional ambi...</td>\n",
       "    </tr>\n",
       "    <tr>\n",
       "      <td>31031</td>\n",
       "      <td>TRCFVJF128F42AAD7B</td>\n",
       "      <td>aab128f8-a013-46b3-97c7-73f0d18dd7c1</td>\n",
       "      <td>üNN</td>\n",
       "      <td>Three Pilots</td>\n",
       "      <td>1i9YBowsDKdycECqeloT9I</td>\n",
       "      <td>1yZbA9817FU14OeRIJ1Dig</td>\n",
       "      <td>4</td>\n",
       "      <td>125.018</td>\n",
       "      <td>0.87</td>\n",
       "      <td>-11.325</td>\n",
       "      <td>0.0425</td>\n",
       "      <td>0.059</td>\n",
       "      <td>0.538</td>\n",
       "      <td>['future ambient']</td>\n",
       "    </tr>\n",
       "  </tbody>\n",
       "</table>\n",
       "</div>"
      ],
      "text/plain": [
       "                 track_id                                 mb_id  \\\n",
       "31027  TRJMGED128F1485763  1e0de31c-4957-4649-9aa3-7b0f1d9d2c84   \n",
       "31028  TRXFHVQ128F1453822  1e0de31c-4957-4649-9aa3-7b0f1d9d2c84   \n",
       "31029  TRGSZLI128F4230F3A  6655955b-1c1e-4bcb-84e4-81bcd9efab30   \n",
       "31030  TRIAHBB128F930136B  6655955b-1c1e-4bcb-84e4-81bcd9efab30   \n",
       "31031  TRCFVJF128F42AAD7B  aab128f8-a013-46b3-97c7-73f0d18dd7c1   \n",
       "\n",
       "               artist                               song_title  \\\n",
       "31027    Étienne Daho         Quelqu'un Qui M'ressemble (Démo)   \n",
       "31028    Étienne Daho                     Saudade  (Live 2004)   \n",
       "31029  Ólafur Arnalds                                     0040   \n",
       "31030  Ólafur Arnalds  Þau hafa sloppið undan þunga myrkursins   \n",
       "31031             üNN                             Three Pilots   \n",
       "\n",
       "                  sp_track_id            sp_artist_id time_sig    tempo  \\\n",
       "31027                     nan                     nan      nan      nan   \n",
       "31028  3fJymrFJ6BlODWK0QzuVlH  5aDKJuLDczfmHfRSOmHCJk        4  116.905   \n",
       "31029  0wY6UGmdUSOs38DDKMfNfA  7E3BRXV9ZbCt5lQTCXMTia        4  135.456   \n",
       "31030  4HMHfABjrAez8PucpSM6Qe  7E3BRXV9ZbCt5lQTCXMTia        4   89.852   \n",
       "31031  1i9YBowsDKdycECqeloT9I  1yZbA9817FU14OeRIJ1Dig        4  125.018   \n",
       "\n",
       "       energy loudness speechiness acousticness instrumentalness  \\\n",
       "31027     nan      nan         nan          nan              nan   \n",
       "31028   0.966   -2.431      0.0421       0.0112         0.000326   \n",
       "31029  0.0292   -23.61      0.0346        0.967            0.968   \n",
       "31030   0.272  -14.941      0.0281         0.92            0.836   \n",
       "31031    0.87  -11.325      0.0425        0.059            0.538   \n",
       "\n",
       "                                                   genre  \n",
       "31027                                              [nan]  \n",
       "31028  ['chanson', 'french indie pop', 'french indiet...  \n",
       "31029  ['bow pop', 'chamber pop', 'compositional ambi...  \n",
       "31030  ['bow pop', 'chamber pop', 'compositional ambi...  \n",
       "31031                                 ['future ambient']  "
      ]
     },
     "execution_count": 61,
     "metadata": {},
     "output_type": "execute_result"
    }
   ],
   "source": [
    "track_metadata.tail()"
   ]
  },
  {
   "cell_type": "code",
   "execution_count": 62,
   "metadata": {},
   "outputs": [],
   "source": [
    "track_metadata.to_csv(scripts_dir+\"data_cleaning_scripts/track_metadata.csv\")"
   ]
  },
  {
   "cell_type": "code",
   "execution_count": 39,
   "metadata": {},
   "outputs": [],
   "source": []
  },
  {
   "cell_type": "code",
   "execution_count": null,
   "metadata": {},
   "outputs": [],
   "source": []
  }
 ],
 "metadata": {
  "kernelspec": {
   "display_name": "Python 3",
   "language": "python",
   "name": "python3"
  },
  "language_info": {
   "codemirror_mode": {
    "name": "ipython",
    "version": 3
   },
   "file_extension": ".py",
   "mimetype": "text/x-python",
   "name": "python",
   "nbconvert_exporter": "python",
   "pygments_lexer": "ipython3",
   "version": "3.7.4"
  }
 },
 "nbformat": 4,
 "nbformat_minor": 2
}
