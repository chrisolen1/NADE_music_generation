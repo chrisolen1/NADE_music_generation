{
 "cells": [
  {
   "cell_type": "code",
   "execution_count": 12,
   "metadata": {},
   "outputs": [],
   "source": [
    "import pandas as pd\n",
    "import numpy as np\n",
    "\n",
    "import os\n",
    "\n",
    "import pypianoroll\n",
    "import pretty_midi\n",
    "\n",
    "import pygame\n",
    "\n",
    "from matplotlib import pyplot as plt"
   ]
  },
  {
   "cell_type": "code",
   "execution_count": 2,
   "metadata": {},
   "outputs": [],
   "source": [
    "# Directories:\n",
    "\n",
    "data_dir = \"/Users/chrisolen/Documents/uchicago_courses/deep_learning_and_image_recognition/audio_generation/data/\"\n",
    "scripts_dir = \"/Users/chrisolen/Documents/uchicago_courses/deep_learning_and_image_recognition/audio_generation/NADE_music_generation/\""
   ]
  },
  {
   "cell_type": "markdown",
   "metadata": {},
   "source": [
    "# Read In Track Metadata"
   ]
  },
  {
   "cell_type": "code",
   "execution_count": 3,
   "metadata": {},
   "outputs": [],
   "source": [
    "# Read in track metadata:\n",
    "\n",
    "track_metadata = pd.read_csv(scripts_dir+\"data_cleaning_scripts/track_metadata.csv\",\n",
    "                            index_col='Unnamed: 0')"
   ]
  },
  {
   "cell_type": "code",
   "execution_count": 4,
   "metadata": {},
   "outputs": [
    {
     "data": {
      "text/html": [
       "<div>\n",
       "<style scoped>\n",
       "    .dataframe tbody tr th:only-of-type {\n",
       "        vertical-align: middle;\n",
       "    }\n",
       "\n",
       "    .dataframe tbody tr th {\n",
       "        vertical-align: top;\n",
       "    }\n",
       "\n",
       "    .dataframe thead th {\n",
       "        text-align: right;\n",
       "    }\n",
       "</style>\n",
       "<table border=\"1\" class=\"dataframe\">\n",
       "  <thead>\n",
       "    <tr style=\"text-align: right;\">\n",
       "      <th></th>\n",
       "      <th>track_id</th>\n",
       "      <th>mb_id</th>\n",
       "      <th>artist</th>\n",
       "      <th>song_title</th>\n",
       "      <th>sp_track_id</th>\n",
       "      <th>sp_artist_id</th>\n",
       "      <th>time_sig</th>\n",
       "      <th>tempo</th>\n",
       "      <th>energy</th>\n",
       "      <th>loudness</th>\n",
       "      <th>speechiness</th>\n",
       "      <th>acousticness</th>\n",
       "      <th>instrumentalness</th>\n",
       "      <th>genre</th>\n",
       "    </tr>\n",
       "  </thead>\n",
       "  <tbody>\n",
       "    <tr>\n",
       "      <td>0</td>\n",
       "      <td>TRBQUUS12903CB2580</td>\n",
       "      <td>7b28fb58-882b-4907-856e-ef327b624b11</td>\n",
       "      <td>+ / - {Plus/Minus}</td>\n",
       "      <td>Flight Data Recorder</td>\n",
       "      <td>5aXSB4ywBWcPVBuOqxJAsZ</td>\n",
       "      <td>4j4NbPKY5EnsEUhdNICINb</td>\n",
       "      <td>3.0</td>\n",
       "      <td>108.021</td>\n",
       "      <td>0.584</td>\n",
       "      <td>-9.032</td>\n",
       "      <td>0.0270</td>\n",
       "      <td>0.00184</td>\n",
       "      <td>0.15500</td>\n",
       "      <td>[]</td>\n",
       "    </tr>\n",
       "    <tr>\n",
       "      <td>1</td>\n",
       "      <td>TRRXTJI12903D01048</td>\n",
       "      <td>6bd4eaa7-aa1c-4138-a392-41693229c7fc</td>\n",
       "      <td>+39</td>\n",
       "      <td>My Relax</td>\n",
       "      <td>2j7kfbjTPqpaYHide0hFxi</td>\n",
       "      <td>5Cicr7PrzTNv4bXiZntlex</td>\n",
       "      <td>4.0</td>\n",
       "      <td>119.997</td>\n",
       "      <td>0.553</td>\n",
       "      <td>-7.488</td>\n",
       "      <td>0.2160</td>\n",
       "      <td>0.00514</td>\n",
       "      <td>0.86900</td>\n",
       "      <td>[]</td>\n",
       "    </tr>\n",
       "    <tr>\n",
       "      <td>2</td>\n",
       "      <td>TRMKKFV12903CB7EA4</td>\n",
       "      <td>NaN</td>\n",
       "      <td>...arrived at ten</td>\n",
       "      <td>Flake</td>\n",
       "      <td>1T3zWGYGHIAX36IHYHL9Ar</td>\n",
       "      <td>49myFlNbBmL4X25pekwLqR</td>\n",
       "      <td>4.0</td>\n",
       "      <td>106.003</td>\n",
       "      <td>0.437</td>\n",
       "      <td>-12.814</td>\n",
       "      <td>0.0261</td>\n",
       "      <td>0.91300</td>\n",
       "      <td>0.88100</td>\n",
       "      <td>[]</td>\n",
       "    </tr>\n",
       "    <tr>\n",
       "      <td>3</td>\n",
       "      <td>TRNVJXQ128F14AFD63</td>\n",
       "      <td>2fc659fa-293f-4288-bff5-29447f31f628</td>\n",
       "      <td>1. Futurologischer Congress</td>\n",
       "      <td>Atem</td>\n",
       "      <td>6bsV04oYvnEEh2tmMzbuE3</td>\n",
       "      <td>6MD8yUEX0V8XJR2Xrwz0HO</td>\n",
       "      <td>4.0</td>\n",
       "      <td>136.250</td>\n",
       "      <td>0.883</td>\n",
       "      <td>-7.470</td>\n",
       "      <td>0.0513</td>\n",
       "      <td>0.03660</td>\n",
       "      <td>0.00704</td>\n",
       "      <td>['neue deutsche welle']</td>\n",
       "    </tr>\n",
       "    <tr>\n",
       "      <td>4</td>\n",
       "      <td>TRLIEDO12903CA41B4</td>\n",
       "      <td>f37c537b-3557-4031-bfd6-ab63ced32854</td>\n",
       "      <td>10 CC</td>\n",
       "      <td>The Things We Do For Love</td>\n",
       "      <td>NaN</td>\n",
       "      <td>NaN</td>\n",
       "      <td>NaN</td>\n",
       "      <td>NaN</td>\n",
       "      <td>NaN</td>\n",
       "      <td>NaN</td>\n",
       "      <td>NaN</td>\n",
       "      <td>NaN</td>\n",
       "      <td>NaN</td>\n",
       "      <td>['nan']</td>\n",
       "    </tr>\n",
       "  </tbody>\n",
       "</table>\n",
       "</div>"
      ],
      "text/plain": [
       "             track_id                                 mb_id  \\\n",
       "0  TRBQUUS12903CB2580  7b28fb58-882b-4907-856e-ef327b624b11   \n",
       "1  TRRXTJI12903D01048  6bd4eaa7-aa1c-4138-a392-41693229c7fc   \n",
       "2  TRMKKFV12903CB7EA4                                   NaN   \n",
       "3  TRNVJXQ128F14AFD63  2fc659fa-293f-4288-bff5-29447f31f628   \n",
       "4  TRLIEDO12903CA41B4  f37c537b-3557-4031-bfd6-ab63ced32854   \n",
       "\n",
       "                        artist                 song_title  \\\n",
       "0           + / - {Plus/Minus}       Flight Data Recorder   \n",
       "1                          +39                   My Relax   \n",
       "2            ...arrived at ten                      Flake   \n",
       "3  1. Futurologischer Congress                       Atem   \n",
       "4                        10 CC  The Things We Do For Love   \n",
       "\n",
       "              sp_track_id            sp_artist_id  time_sig    tempo  energy  \\\n",
       "0  5aXSB4ywBWcPVBuOqxJAsZ  4j4NbPKY5EnsEUhdNICINb       3.0  108.021   0.584   \n",
       "1  2j7kfbjTPqpaYHide0hFxi  5Cicr7PrzTNv4bXiZntlex       4.0  119.997   0.553   \n",
       "2  1T3zWGYGHIAX36IHYHL9Ar  49myFlNbBmL4X25pekwLqR       4.0  106.003   0.437   \n",
       "3  6bsV04oYvnEEh2tmMzbuE3  6MD8yUEX0V8XJR2Xrwz0HO       4.0  136.250   0.883   \n",
       "4                     NaN                     NaN       NaN      NaN     NaN   \n",
       "\n",
       "   loudness  speechiness  acousticness  instrumentalness  \\\n",
       "0    -9.032       0.0270       0.00184           0.15500   \n",
       "1    -7.488       0.2160       0.00514           0.86900   \n",
       "2   -12.814       0.0261       0.91300           0.88100   \n",
       "3    -7.470       0.0513       0.03660           0.00704   \n",
       "4       NaN          NaN           NaN               NaN   \n",
       "\n",
       "                     genre  \n",
       "0                       []  \n",
       "1                       []  \n",
       "2                       []  \n",
       "3  ['neue deutsche welle']  \n",
       "4                  ['nan']  "
      ]
     },
     "execution_count": 4,
     "metadata": {},
     "output_type": "execute_result"
    }
   ],
   "source": [
    "track_metadata.head()"
   ]
  },
  {
   "cell_type": "code",
   "execution_count": 113,
   "metadata": {},
   "outputs": [
    {
     "data": {
      "text/plain": [
       "-26.672333823000002"
      ]
     },
     "execution_count": 113,
     "metadata": {},
     "output_type": "execute_result"
    }
   ],
   "source": [
    "track_metadata['loudness'].quantile(.01111111)"
   ]
  },
  {
   "cell_type": "code",
   "execution_count": 5,
   "metadata": {},
   "outputs": [
    {
     "data": {
      "text/plain": [
       "(31032, 14)"
      ]
     },
     "execution_count": 5,
     "metadata": {},
     "output_type": "execute_result"
    }
   ],
   "source": [
    "track_metadata.shape"
   ]
  },
  {
   "cell_type": "markdown",
   "metadata": {},
   "source": [
    "# Read in Midi Files"
   ]
  },
  {
   "cell_type": "code",
   "execution_count": 47,
   "metadata": {},
   "outputs": [],
   "source": [
    "# Locate desired track_id from metadata:\n",
    "\n",
    "track_id = track_metadata.iloc[800,0]"
   ]
  },
  {
   "cell_type": "code",
   "execution_count": 48,
   "metadata": {},
   "outputs": [],
   "source": [
    "# Find the corresponding midi file:\n",
    "\n",
    "midi_id = os.listdir(data_dir+\"midi_files/\"+ track_id)[0]"
   ]
  },
  {
   "cell_type": "code",
   "execution_count": 49,
   "metadata": {},
   "outputs": [],
   "source": [
    "# Load in the full path:\n",
    "\n",
    "mid = pypianoroll.Multitrack(data_dir+\"midi_files/\"+ track_id + \"/\" + midi_id)"
   ]
  },
  {
   "cell_type": "code",
   "execution_count": 50,
   "metadata": {},
   "outputs": [
    {
     "data": {
      "text/plain": [
       "False"
      ]
     },
     "execution_count": 50,
     "metadata": {},
     "output_type": "execute_result"
    }
   ],
   "source": [
    "# Is it binarized?\n",
    "\n",
    "mid.is_binarized()"
   ]
  },
  {
   "cell_type": "code",
   "execution_count": 51,
   "metadata": {},
   "outputs": [],
   "source": [
    "# Binarize:\n",
    "\n",
    "mid.binarize()"
   ]
  },
  {
   "cell_type": "code",
   "execution_count": 52,
   "metadata": {},
   "outputs": [],
   "source": [
    "# Store binarized int pianoroll as separate object:\n",
    "\n",
    "roll = mid.get_stacked_pianoroll().astype(int)"
   ]
  },
  {
   "cell_type": "code",
   "execution_count": 53,
   "metadata": {},
   "outputs": [
    {
     "data": {
      "text/plain": [
       "(8952, 128, 19)"
      ]
     },
     "execution_count": 53,
     "metadata": {},
     "output_type": "execute_result"
    }
   ],
   "source": [
    "roll.shape"
   ]
  },
  {
   "cell_type": "code",
   "execution_count": 54,
   "metadata": {},
   "outputs": [],
   "source": [
    "# Multitrack object metadata:\n",
    "\n",
    "instrumentation = [mid.tracks[i].program for i in range(len(mid.tracks))]\n",
    "\n",
    "unique, counts = np.unique(mid.tempo, return_counts=True)\n",
    "tempo = dict(zip(unique, counts))\n",
    "\n",
    "beat_res = mid.beat_resolution # number of time steps per beat\n",
    "\n",
    "active_length = mid.get_active_length() # number of time steps where there's some activity\n",
    "\n",
    "pitch_range = mid.get_active_pitch_range()"
   ]
  },
  {
   "cell_type": "code",
   "execution_count": 55,
   "metadata": {},
   "outputs": [],
   "source": [
    "# Pianoroll object metadata (for one voice):\n",
    "\n",
    "empty_beat_rate = pypianoroll.metrics.empty_beat_rate(roll[:,:,0], beat_res) # Ratio of empty beats to the total number of beats\n",
    "\n",
    "num_pitches_used = pypianoroll.metrics.n_pitches_used(roll[:,:,0])"
   ]
  },
  {
   "cell_type": "code",
   "execution_count": 56,
   "metadata": {},
   "outputs": [],
   "source": [
    "# Write multitrack pianroll to a MIDI file:\n",
    "\n",
    "mid.write(scripts_dir + \"modeling_scripts/\"+\"test_midi\")\n"
   ]
  },
  {
   "cell_type": "code",
   "execution_count": 57,
   "metadata": {},
   "outputs": [
    {
     "data": {
      "text/plain": [
       "Multitrack(tracks=[\"Tormento D'amore\", \"Tormento D'amore\", \"Tormento D'amore\", \"Tormento D'amore\", \"Tormento D'amore\", \"Tormento D'amore\", \"Tormento D'amore\", \"Tormento D'amore\", \"Tormento D'amore\", \"Tormento D'amore\", \"Tormento D'amore\", \"Tormento D'amore\", \"Tormento D'amore\", \"Tormento D'amore\", \"Tormento D'amore\", \"Tormento D'amore\", \"Tormento D'amore\", \"Tormento D'amore\", \"Tormento D'amore\"], tempo=array([88.00002347, 88.00002347, 88.00002347, ..., 88.00002347,\n",
       "       88.00002347, 88.00002347]), downbeat=array([ True, False, False, ..., False, False, False]), beat_resolution=24, name=unknown)"
      ]
     },
     "execution_count": 57,
     "metadata": {},
     "output_type": "execute_result"
    }
   ],
   "source": [
    "mid"
   ]
  },
  {
   "cell_type": "markdown",
   "metadata": {},
   "source": [
    "# Pretty Midi"
   ]
  },
  {
   "cell_type": "code",
   "execution_count": 58,
   "metadata": {},
   "outputs": [],
   "source": [
    "midi_data = pretty_midi.PrettyMIDI(data_dir+\"midi_files/\"+ track_id + \"/\" + midi_id)"
   ]
  },
  {
   "cell_type": "code",
   "execution_count": 59,
   "metadata": {},
   "outputs": [
    {
     "data": {
      "text/plain": [
       "179.3872105072701"
      ]
     },
     "execution_count": 59,
     "metadata": {},
     "output_type": "execute_result"
    }
   ],
   "source": [
    "midi_data.estimate_tempo()"
   ]
  },
  {
   "cell_type": "code",
   "execution_count": 60,
   "metadata": {},
   "outputs": [
    {
     "name": "stdout",
     "output_type": "stream",
     "text": [
      "Help on PrettyMIDI in module pretty_midi.pretty_midi object:\n",
      "\n",
      "class PrettyMIDI(builtins.object)\n",
      " |  PrettyMIDI(midi_file=None, resolution=220, initial_tempo=120.0)\n",
      " |  \n",
      " |  A container for MIDI data in an easily-manipulable format.\n",
      " |  \n",
      " |  Parameters\n",
      " |  ----------\n",
      " |  midi_file : str or file\n",
      " |      Path or file pointer to a MIDI file.\n",
      " |      Default ``None`` which means create an empty class with the supplied\n",
      " |      values for resolution and initial tempo.\n",
      " |  resolution : int\n",
      " |      Resolution of the MIDI data, when no file is provided.\n",
      " |  intitial_tempo : float\n",
      " |      Initial tempo for the MIDI data, when no file is provided.\n",
      " |  \n",
      " |  Attributes\n",
      " |  ----------\n",
      " |  instruments : list\n",
      " |      List of :class:`pretty_midi.Instrument` objects.\n",
      " |  key_signature_changes : list\n",
      " |      List of :class:`pretty_midi.KeySignature` objects.\n",
      " |  time_signature_changes : list\n",
      " |      List of :class:`pretty_midi.TimeSignature` objects.\n",
      " |  lyrics : list\n",
      " |      List of :class:`pretty_midi.Lyric` objects.\n",
      " |  \n",
      " |  Methods defined here:\n",
      " |  \n",
      " |  __init__(self, midi_file=None, resolution=220, initial_tempo=120.0)\n",
      " |      Initialize either by populating it with MIDI data from a file or\n",
      " |      from scratch with no data.\n",
      " |  \n",
      " |  adjust_times(self, original_times, new_times)\n",
      " |      Adjusts the timing of the events in the MIDI object.\n",
      " |      The parameters ``original_times`` and ``new_times`` define a mapping,\n",
      " |      so that if an event originally occurs at time ``original_times[n]``, it\n",
      " |      will be moved so that it occurs at ``new_times[n]``.  If events don't\n",
      " |      occur exactly on a time in ``original_times``, their timing will be\n",
      " |      linearly interpolated.\n",
      " |      \n",
      " |      Parameters\n",
      " |      ----------\n",
      " |      original_times : np.ndarray\n",
      " |          Times to map from.\n",
      " |      new_times : np.ndarray\n",
      " |          New times to map to.\n",
      " |  \n",
      " |  estimate_beat_start(self, candidates=10, tolerance=0.025)\n",
      " |      Estimate the location of the first beat based on which of the first\n",
      " |      few onsets results in the best correlation with the onset spike train.\n",
      " |      \n",
      " |      Parameters\n",
      " |      ----------\n",
      " |      candidates : int\n",
      " |          Number of candidate onsets to try.\n",
      " |      tolerance : float\n",
      " |          The tolerance in seconds around which onsets will be used to\n",
      " |          treat a beat as correct.\n",
      " |      \n",
      " |      Returns\n",
      " |      -------\n",
      " |      beat_start : float\n",
      " |          The offset which is chosen as the beat start location.\n",
      " |  \n",
      " |  estimate_tempi(self)\n",
      " |      Return an empirical estimate of tempos and each tempo's probability.\n",
      " |      Based on \"Automatic Extraction of Tempo and Beat from Expressive\n",
      " |      Performance\", Dixon 2001.\n",
      " |      \n",
      " |      Returns\n",
      " |      -------\n",
      " |      tempos : np.ndarray\n",
      " |          Array of estimated tempos, in beats per minute.\n",
      " |      probabilities : np.ndarray\n",
      " |          Array of the probabilities of each tempo estimate.\n",
      " |  \n",
      " |  estimate_tempo(self)\n",
      " |      Returns the best tempo estimate from\n",
      " |      :func:`pretty_midi.PrettyMIDI.estimate_tempi()`, for convenience.\n",
      " |      \n",
      " |      Returns\n",
      " |      -------\n",
      " |      tempo : float\n",
      " |          Estimated tempo, in bpm\n",
      " |  \n",
      " |  fluidsynth(self, fs=44100, sf2_path=None)\n",
      " |      Synthesize using fluidsynth.\n",
      " |      \n",
      " |      Parameters\n",
      " |      ----------\n",
      " |      fs : int\n",
      " |          Sampling rate to synthesize at.\n",
      " |      sf2_path : str\n",
      " |          Path to a .sf2 file.\n",
      " |          Default ``None``, which uses the TimGM6mb.sf2 file included with\n",
      " |          ``pretty_midi``.\n",
      " |      \n",
      " |      Returns\n",
      " |      -------\n",
      " |      synthesized : np.ndarray\n",
      " |          Waveform of the MIDI data, synthesized at ``fs``.\n",
      " |  \n",
      " |  get_beats(self, start_time=0.0)\n",
      " |      Return a list of beat locations, according to MIDI tempo changes.\n",
      " |      \n",
      " |      Parameters\n",
      " |      ----------\n",
      " |      start_time : float\n",
      " |          Location of the first beat, in seconds.\n",
      " |      \n",
      " |      Returns\n",
      " |      -------\n",
      " |      beats : np.ndarray\n",
      " |          Beat locations, in seconds.\n",
      " |  \n",
      " |  get_chroma(self, fs=100, times=None)\n",
      " |      Get the MIDI data as a sequence of chroma vectors.\n",
      " |      \n",
      " |      Parameters\n",
      " |      ----------\n",
      " |      fs : int\n",
      " |          Sampling frequency of the columns, i.e. each column is spaced apart\n",
      " |          by ``1./fs`` seconds.\n",
      " |      times : np.ndarray\n",
      " |          Times of the start of each column in the piano roll.\n",
      " |          Default ``None`` which is ``np.arange(0, get_end_time(), 1./fs)``.\n",
      " |      \n",
      " |      Returns\n",
      " |      -------\n",
      " |      piano_roll : np.ndarray, shape=(12,times.shape[0])\n",
      " |          Chromagram of MIDI data, flattened across instruments.\n",
      " |  \n",
      " |  get_downbeats(self, start_time=0.0)\n",
      " |      Return a list of downbeat locations, according to MIDI tempo changes\n",
      " |      and time signature change events.\n",
      " |      \n",
      " |      Parameters\n",
      " |      ----------\n",
      " |      start_time : float\n",
      " |          Location of the first downbeat, in seconds.\n",
      " |      \n",
      " |      Returns\n",
      " |      -------\n",
      " |      downbeats : np.ndarray\n",
      " |          Downbeat locations, in seconds.\n",
      " |  \n",
      " |  get_end_time(self)\n",
      " |      Returns the time of the end of the MIDI object (time of the last\n",
      " |      event in all instruments/meta-events).\n",
      " |      \n",
      " |      Returns\n",
      " |      -------\n",
      " |      end_time : float\n",
      " |          Time, in seconds, where this MIDI file ends.\n",
      " |  \n",
      " |  get_onsets(self)\n",
      " |      Return a sorted list of the times of all onsets of all notes from\n",
      " |      all instruments.  May have duplicate entries.\n",
      " |      \n",
      " |      Returns\n",
      " |      -------\n",
      " |      onsets : np.ndarray\n",
      " |          Onset locations, in seconds.\n",
      " |  \n",
      " |  get_piano_roll(self, fs=100, times=None)\n",
      " |      Compute a piano roll matrix of the MIDI data.\n",
      " |      \n",
      " |      Parameters\n",
      " |      ----------\n",
      " |      fs : int\n",
      " |          Sampling frequency of the columns, i.e. each column is spaced apart\n",
      " |          by ``1./fs`` seconds.\n",
      " |      times : np.ndarray\n",
      " |          Times of the start of each column in the piano roll.\n",
      " |          Default ``None`` which is ``np.arange(0, get_end_time(), 1./fs)``.\n",
      " |      \n",
      " |      Returns\n",
      " |      -------\n",
      " |      piano_roll : np.ndarray, shape=(128,times.shape[0])\n",
      " |          Piano roll of MIDI data, flattened across instruments.\n",
      " |  \n",
      " |  get_pitch_class_histogram(self, use_duration=False, use_velocity=False, normalize=True)\n",
      " |      Computes the histogram of pitch classes.\n",
      " |      \n",
      " |      Parameters\n",
      " |      ----------\n",
      " |      use_duration : bool\n",
      " |          Weight frequency by note duration.\n",
      " |      use_velocity : bool\n",
      " |          Weight frequency by note velocity.\n",
      " |      normalize : bool\n",
      " |          Normalizes the histogram such that the sum of bin values is 1.\n",
      " |      \n",
      " |      Returns\n",
      " |      -------\n",
      " |      histogram : np.ndarray, shape=(12,)\n",
      " |          Histogram of pitch classes given all tracks, optionally weighted\n",
      " |          by their durations or velocities.\n",
      " |  \n",
      " |  get_pitch_class_transition_matrix(self, normalize=False, time_thresh=0.05)\n",
      " |      Computes the total pitch class transition matrix of all instruments.\n",
      " |      Transitions are added whenever the end of a note is within\n",
      " |      ``time_tresh`` from the start of any other note.\n",
      " |      \n",
      " |      Parameters\n",
      " |      ----------\n",
      " |      normalize : bool\n",
      " |          Normalize transition matrix such that matrix sum equals is 1.\n",
      " |      time_thresh : float\n",
      " |          Maximum temporal threshold, in seconds, between the start of a note\n",
      " |          and end time of any other note for a transition to be added.\n",
      " |      \n",
      " |      Returns\n",
      " |      -------\n",
      " |      pitch_class_transition_matrix : np.ndarray, shape=(12,12)\n",
      " |          Pitch class transition matrix.\n",
      " |  \n",
      " |  get_tempo_changes(self)\n",
      " |      Return arrays of tempo changes in quarter notes-per-minute and their\n",
      " |      times.\n",
      " |      \n",
      " |      Returns\n",
      " |      -------\n",
      " |      tempo_change_times : np.ndarray\n",
      " |          Times, in seconds, where the tempo changes.\n",
      " |      tempi : np.ndarray\n",
      " |          What the tempo is, in quarter notes-per-minute, at each point in\n",
      " |          time in ``tempo_change_times``.\n",
      " |  \n",
      " |  remove_invalid_notes(self)\n",
      " |      Removes any notes whose end time is before or at their start time.\n",
      " |  \n",
      " |  synthesize(self, fs=44100, wave=<ufunc 'sin'>)\n",
      " |      Synthesize the pattern using some waveshape.  Ignores drum track.\n",
      " |      \n",
      " |      Parameters\n",
      " |      ----------\n",
      " |      fs : int\n",
      " |          Sampling rate of the synthesized audio signal.\n",
      " |      wave : function\n",
      " |          Function which returns a periodic waveform,\n",
      " |          e.g. ``np.sin``, ``scipy.signal.square``, etc.\n",
      " |      \n",
      " |      Returns\n",
      " |      -------\n",
      " |      synthesized : np.ndarray\n",
      " |          Waveform of the MIDI data, synthesized at ``fs``.\n",
      " |  \n",
      " |  tick_to_time(self, tick)\n",
      " |      Converts from an absolute tick to time in seconds using\n",
      " |      ``self.__tick_to_time``.\n",
      " |      \n",
      " |      Parameters\n",
      " |      ----------\n",
      " |      tick : int\n",
      " |          Absolute tick to convert.\n",
      " |      \n",
      " |      Returns\n",
      " |      -------\n",
      " |      time : float\n",
      " |          Time in seconds of tick.\n",
      " |  \n",
      " |  time_to_tick(self, time)\n",
      " |      Converts from a time in seconds to absolute tick using\n",
      " |      ``self._tick_scales``.\n",
      " |      \n",
      " |      Parameters\n",
      " |      ----------\n",
      " |      time : float\n",
      " |          Time, in seconds.\n",
      " |      \n",
      " |      Returns\n",
      " |      -------\n",
      " |      tick : int\n",
      " |          Absolute tick corresponding to the supplied time.\n",
      " |  \n",
      " |  write(self, filename)\n",
      " |      Write the MIDI data out to a .mid file.\n",
      " |      \n",
      " |      Parameters\n",
      " |      ----------\n",
      " |      filename : str or file\n",
      " |          Path or file to write .mid file to.\n",
      " |  \n",
      " |  ----------------------------------------------------------------------\n",
      " |  Data descriptors defined here:\n",
      " |  \n",
      " |  __dict__\n",
      " |      dictionary for instance variables (if defined)\n",
      " |  \n",
      " |  __weakref__\n",
      " |      list of weak references to the object (if defined)\n",
      "\n"
     ]
    }
   ],
   "source": [
    "help(midi_data)"
   ]
  },
  {
   "cell_type": "code",
   "execution_count": 61,
   "metadata": {},
   "outputs": [
    {
     "data": {
      "text/plain": [
       "[Instrument(program=73, is_drum=False, name=\"Tormento D'amore\"),\n",
       " Instrument(program=47, is_drum=False, name=\"Tormento D'amore\"),\n",
       " Instrument(program=0, is_drum=False, name=\"Tormento D'amore\"),\n",
       " Instrument(program=40, is_drum=False, name=\"Tormento D'amore\"),\n",
       " Instrument(program=48, is_drum=False, name=\"Tormento D'amore\"),\n",
       " Instrument(program=49, is_drum=False, name=\"Tormento D'amore\"),\n",
       " Instrument(program=48, is_drum=False, name=\"Tormento D'amore\"),\n",
       " Instrument(program=9, is_drum=False, name=\"Tormento D'amore\"),\n",
       " Instrument(program=32, is_drum=False, name=\"Tormento D'amore\"),\n",
       " Instrument(program=45, is_drum=False, name=\"Tormento D'amore\"),\n",
       " Instrument(program=57, is_drum=False, name=\"Tormento D'amore\"),\n",
       " Instrument(program=71, is_drum=False, name=\"Tormento D'amore\"),\n",
       " Instrument(program=48, is_drum=True, name=\"Tormento D'amore\"),\n",
       " Instrument(program=72, is_drum=False, name=\"Tormento D'amore\"),\n",
       " Instrument(program=60, is_drum=False, name=\"Tormento D'amore\"),\n",
       " Instrument(program=52, is_drum=False, name=\"Tormento D'amore\"),\n",
       " Instrument(program=52, is_drum=False, name=\"Tormento D'amore\"),\n",
       " Instrument(program=56, is_drum=False, name=\"Tormento D'amore\"),\n",
       " Instrument(program=46, is_drum=False, name=\"Tormento D'amore\")]"
      ]
     },
     "execution_count": 61,
     "metadata": {},
     "output_type": "execute_result"
    }
   ],
   "source": [
    "midi_data.instruments"
   ]
  },
  {
   "cell_type": "code",
   "execution_count": 62,
   "metadata": {},
   "outputs": [
    {
     "data": {
      "text/plain": [
       "[KeySignature(key_number=0, time=0.0),\n",
       " KeySignature(key_number=2, time=190.90904)]"
      ]
     },
     "execution_count": 62,
     "metadata": {},
     "output_type": "execute_result"
    }
   ],
   "source": [
    "midi_data.key_signature_changes"
   ]
  },
  {
   "cell_type": "code",
   "execution_count": 63,
   "metadata": {},
   "outputs": [
    {
     "data": {
      "text/plain": [
       "[TimeSignature(numerator=4, denominator=4, time=0.0)]"
      ]
     },
     "execution_count": 63,
     "metadata": {},
     "output_type": "execute_result"
    }
   ],
   "source": [
    "midi_data.time_signature_changes"
   ]
  },
  {
   "cell_type": "code",
   "execution_count": 64,
   "metadata": {},
   "outputs": [
    {
     "data": {
      "text/plain": [
       "array([0.      , 0.681818, 1.363636, 2.045454, 2.727272])"
      ]
     },
     "execution_count": 64,
     "metadata": {},
     "output_type": "execute_result"
    }
   ],
   "source": [
    "midi_data.get_beats()[0:5]"
   ]
  },
  {
   "cell_type": "code",
   "execution_count": 65,
   "metadata": {},
   "outputs": [
    {
     "data": {
      "text/plain": [
       "(12, 25363)"
      ]
     },
     "execution_count": 65,
     "metadata": {},
     "output_type": "execute_result"
    }
   ],
   "source": [
    "midi_data.get_chroma().shape"
   ]
  },
  {
   "cell_type": "code",
   "execution_count": 66,
   "metadata": {},
   "outputs": [
    {
     "data": {
      "text/plain": [
       "(128, 25363)"
      ]
     },
     "execution_count": 66,
     "metadata": {},
     "output_type": "execute_result"
    }
   ],
   "source": [
    "midi_data.get_piano_roll().shape"
   ]
  },
  {
   "cell_type": "code",
   "execution_count": 67,
   "metadata": {},
   "outputs": [
    {
     "data": {
      "text/plain": [
       "5.4772712666666665"
      ]
     },
     "execution_count": 67,
     "metadata": {},
     "output_type": "execute_result"
    }
   ],
   "source": [
    "midi_data.estimate_beat_start()"
   ]
  },
  {
   "cell_type": "code",
   "execution_count": 68,
   "metadata": {},
   "outputs": [
    {
     "data": {
      "text/plain": [
       "array([ 0.      ,  2.727272,  5.454544,  8.181816, 10.909088])"
      ]
     },
     "execution_count": 68,
     "metadata": {},
     "output_type": "execute_result"
    }
   ],
   "source": [
    "midi_data.get_downbeats()[0:5]"
   ]
  },
  {
   "cell_type": "code",
   "execution_count": 69,
   "metadata": {},
   "outputs": [
    {
     "data": {
      "text/plain": [
       "array([0.15712427, 0.017892  , 0.14996747, 0.        , 0.1655823 ,\n",
       "       0.02179571, 0.07937541, 0.17208848, 0.        , 0.13630449,\n",
       "       0.        , 0.09986988])"
      ]
     },
     "execution_count": 69,
     "metadata": {},
     "output_type": "execute_result"
    }
   ],
   "source": [
    "midi_data.get_pitch_class_histogram()"
   ]
  },
  {
   "cell_type": "code",
   "execution_count": 70,
   "metadata": {},
   "outputs": [
    {
     "data": {
      "text/plain": [
       "{'resolution': 120,\n",
       " '_tick_scales': [(0, 0.0056818166666666664)],\n",
       " '_PrettyMIDI__tick_to_time': array([0.00000000e+00, 5.68181667e-03, 1.13636333e-02, ...,\n",
       "        2.53630614e+02, 2.53636296e+02, 2.53641978e+02]),\n",
       " 'key_signature_changes': [KeySignature(key_number=0, time=0.0),\n",
       "  KeySignature(key_number=2, time=190.90904)],\n",
       " 'time_signature_changes': [TimeSignature(numerator=4, denominator=4, time=0.0)],\n",
       " 'lyrics': [Lyric(text=\"C= \", time=2.045454), Lyric(text=\"\n",
       "  \", time=2.045454), Lyric(text=\"Mar\", time=26.931811), Lyric(text=\"ti\", time=27.27272), Lyric(text=\"nio \", time=27.613629), Lyric(text=\"tor\", time=27.954538), Lyric(text=\"men\", time=28.295447), Lyric(text=\"to \", time=28.977265), Lyric(text=\"d'a\", time=29.659083), Lyric(text=\"mo\", time=29.999992), Lyric(text=\"re \", time=30.68181), Lyric(text=\"\n",
       "  \", time=30.68181), Lyric(text=\"Il \", time=32.386355), Lyric(text=\"de\", time=32.727264), Lyric(text=\"lirio \", time=33.068173), Lyric(text=\"fa \", time=33.409082), Lyric(text=\"par\", time=33.749991), Lyric(text=\"te \", time=34.431809), Lyric(text=\"del \", time=35.113627), Lyric(text=\"cuo\", time=35.454536), Lyric(text=\"r\", time=36.136354), Lyric(text=\"e \", time=36.477263), Lyric(text=\"\n",
       "  \", time=36.477263), Lyric(text=\"Un \", time=38.181808), Lyric(text=\"pian\", time=38.522717), Lyric(text=\"to \", time=38.863626), Lyric(text=\"ba\", time=39.204535), Lyric(text=\"gna \", time=39.886353), Lyric(text=\"la \", time=40.568171), Lyric(text=\"bo\", time=40.909079999999996), Lyric(text=\"cca \", time=41.590897999999996), Lyric(text=\"\n",
       "  \", time=41.590897999999996), Lyric(text=\"E \", time=43.295443), Lyric(text=\"tan\", time=43.636351999999995), Lyric(text=\"ta \", time=43.977261), Lyric(text=\"la \", time=44.318169999999995), Lyric(text=\"vo\", time=44.659079), Lyric(text=\"glia \", time=45.340897), Lyric(text=\"di \", time=45.681806), Lyric(text=\"tro\", time=46.022715), Lyric(text=\"var\", time=46.363624), Lyric(text=\"t\", time=47.045442), Lyric(text=\"i \", time=47.386351), Lyric(text=\"\n",
       "  \", time=47.386351), Lyric(text=\"\n",
       "  \", time=47.386351), Lyric(text=\"Do\", time=49.090896), Lyric(text=\"ve \", time=49.818168533333335), Lyric(text=\"sei, \", time=50.15907753333333), Lyric(text=\"la \", time=51.477259), Lyric(text=\"fan\", time=51.818168), Lyric(text=\"ta\", time=52.499986), Lyric(text=\"si\", time=52.840894999999996), Lyric(text=\"a \", time=53.522712999999996), Lyric(text=\"\n",
       "  \", time=53.522712999999996), Lyric(text=\"La \", time=54.204530999999996), Lyric(text=\"nos\", time=54.54544), Lyric(text=\"tal\", time=55.227258), Lyric(text=\"gi\", time=55.568166999999995), Lyric(text=\"a, \", time=56.249984999999995), Lyric(text=\"la \", time=56.931802999999995), Lyric(text=\"mia \", time=57.272712), Lyric(text=\"ma\", time=57.95453), Lyric(text=\"ni\", time=58.295438999999995), Lyric(text=\"a \", time=58.977256999999994), Lyric(text=\"\n",
       "  \", time=58.977256999999994), Lyric(text=\"\n",
       "  \", time=58.977256999999994), Lyric(text=\"I \", time=59.659074999999994), Lyric(text=\"miei \", time=59.8295295), Lyric(text=\"o\", time=59.999984), Lyric(text=\"cchi \", time=60.681802), Lyric(text=\"tur\", time=62.386347), Lyric(text=\"ba\", time=62.727256), Lyric(text=\"ti \", time=63.409074), Lyric(text=\"\n",
       "  \", time=63.409074), Lyric(text=\"Dal \", time=65.113619), Lyric(text=\"so\", time=65.454528), Lyric(text=\"le, \", time=66.136346), Lyric(text=\"dal \", time=67.840891), Lyric(text=\"ven\", time=68.1818), Lyric(text=\"to \", time=68.863618), Lyric(text=\"\n",
       "  \", time=68.863618), Lyric(text=\"Il \", time=70.3977085), Lyric(text=\"tuo \", time=70.7386175), Lyric(text=\"vi\", time=70.909072), Lyric(text=\"so \", time=71.59089), Lyric(text=\"se\", time=73.295435), Lyric(text=\"re\", time=73.636344), Lyric(text=\"no \", time=74.318162), Lyric(text=\"l'in\", time=76.022707), Lyric(text=\"can\", time=76.363616), Lyric(text=\"ta \", time=77.045434), Lyric(text=\"\n",
       "  \", time=77.045434), Lyric(text=\"Che \", time=78.068161), Lyric(text=\"man\", time=78.2386155), Lyric(text=\"can\", time=78.40907), Lyric(text=\"za \", time=78.63634266666666), Lyric(text=\"mi \", time=78.86361533333333), Lyric(text=\"fai \", time=79.09088799999999), Lyric(text=\"\n",
       "  \", time=79.09088799999999), Lyric(text=\"\n",
       "  \", time=79.09088799999999), Lyric(text=\"Ti \", time=81.477251), Lyric(text=\"vo\", time=81.81815999999999), Lyric(text=\"glio_a\", time=82.159069), Lyric(text=\"ver \", time=82.499978), Lyric(text=\"sem\", time=82.840887), Lyric(text=\"pre \", time=83.522705), Lyric(text=\"con \", time=84.204523), Lyric(text=\"me \", time=84.54543199999999), Lyric(text=\"\n",
       "  \", time=84.54543199999999), Lyric(text=\"O\", time=87.27270399999999), Lyric(text=\"ggi_ho \", time=87.613613), Lyric(text=\"sen\", time=87.954522), Lyric(text=\"ti\", time=88.295431), Lyric(text=\"to \", time=88.977249), Lyric(text=\"dav\", time=89.659067), Lyric(text=\"ve\", time=89.99997599999999), Lyric(text=\"ro \", time=90.681794), Lyric(text=\"che \", time=91.02270299999999), Lyric(text=\"\n",
       "  \", time=91.02270299999999), Lyric(text=\"Non \", time=92.727248), Lyric(text=\"pos\", time=93.068157), Lyric(text=\"so \", time=93.409066), Lyric(text=\"piu \", time=93.74997499999999), Lyric(text=\"vi\", time=94.431793), Lyric(text=\"ver \", time=95.11361099999999), Lyric(text=\"co\", time=95.45452), Lyric(text=\"si \", time=96.136338), Lyric(text=\"\n",
       "  \", time=96.136338), Lyric(text=\"Per \", time=97.84088299999999), Lyric(text=\"me \", time=98.181792), Lyric(text=\"tu \", time=98.522701), Lyric(text=\"sei \", time=98.86361), Lyric(text=\"sem\", time=99.20451899999999), Lyric(text=\"pre \", time=99.886337), Lyric(text=\"\n",
       "  \", time=99.886337), Lyric(text=\"Il \", time=100.56815499999999), Lyric(text=\"pri\", time=100.909064), Lyric(text=\"mo_a\", time=101.590882), Lyric(text=\"mo\", time=101.93179099999999), Lyric(text=\"re \", time=102.613609), Lyric(text=\"\n",
       "  \", time=102.613609), Lyric(text=\"\n",
       "  \", time=102.613609), Lyric(text=\"Do\", time=103.636336), Lyric(text=\"ve \", time=104.34656308333332), Lyric(text=\"sei \", time=104.68747208333333), Lyric(text=\"io \", time=106.02269899999999), Lyric(text=\"sem\", time=106.363608), Lyric(text=\"pre \", time=107.04542599999999), Lyric(text=\"qui \", time=107.386335), Lyric(text=\"\n",
       "  \", time=107.386335), Lyric(text=\"I\", time=108.749971), Lyric(text=\"nna\", time=109.09088), Lyric(text=\"mo\", time=109.77269799999999), Lyric(text=\"ra\", time=110.113607), Lyric(text=\"ta \", time=110.795425), Lyric(text=\"an\", time=111.477243), Lyric(text=\"co\", time=111.818152), Lyric(text=\"ra \", time=112.49996999999999), Lyric(text=\"si \", time=112.840879), Lyric(text=\"\n",
       "  \", time=112.840879), Lyric(text=\"\n",
       "  \", time=112.840879), Lyric(text=\"Can\", time=114.204515), Lyric(text=\"ta\", time=114.545424), Lyric(text=\"re \", time=115.22724199999999), Lyric(text=\"per \", time=116.249969), Lyric(text=\"non \", time=116.59087799999999), Lyric(text=\"mo\", time=117.10224149999999), Lyric(text=\"ri\", time=117.272696), Lyric(text=\"re \", time=117.95451399999999), Lyric(text=\"\n",
       "  \", time=117.95451399999999), Lyric(text=\"I\", time=119.659059), Lyric(text=\"llu\", time=119.999968), Lyric(text=\"der\", time=120.5113315), Lyric(text=\"mi \", time=120.68178599999999), Lyric(text=\"per \", time=121.70451299999999), Lyric(text=\"non \", time=122.045422), Lyric(text=\"so\", time=122.55678549999999), Lyric(text=\"ffri\", time=122.72724), Lyric(text=\"re \", time=123.409058), Lyric(text=\"\n",
       "  \", time=123.409058), Lyric(text=\"Pa\", time=125.113603), Lyric(text=\"ro\", time=125.454512), Lyric(text=\"le, \", time=126.13633), Lyric(text=\"co\", time=127.840875), Lyric(text=\"lo\", time=128.181784), Lyric(text=\"re \", time=128.863602), Lyric(text=\"de\", time=130.227238), Lyric(text=\"lla \", time=130.7386015), Lyric(text=\"vi\", time=130.909056), Lyric(text=\"ta \", time=131.59087399999999), Lyric(text=\"\n",
       "  \", time=131.59087399999999), Lyric(text=\"Sem\", time=132.613601), Lyric(text=\"pre \", time=132.7840555), Lyric(text=\"sem\", time=132.95451), Lyric(text=\"pre \", time=133.18178266666666), Lyric(text=\"per \", time=133.40905533333333), Lyric(text=\"te \", time=133.636328), Lyric(text=\"\n",
       "  \", time=133.636328), Lyric(text=\"\n",
       "  \", time=133.636328), Lyric(text=\"\n",
       "  \", time=133.636328), Lyric(text=\"Do\", time=158.18177599999999), Lyric(text=\"ve \", time=158.89200308333332), Lyric(text=\"sei \", time=159.23291208333333), Lyric(text=\"io \", time=160.568139), Lyric(text=\"sem\", time=160.90904799999998), Lyric(text=\"pre \", time=161.590866), Lyric(text=\"qui \", time=161.931775), Lyric(text=\"\n",
       "  \", time=161.931775), Lyric(text=\"I\", time=163.295411), Lyric(text=\"nna\", time=163.63631999999998), Lyric(text=\"mo\", time=164.318138), Lyric(text=\"ra\", time=164.659047), Lyric(text=\"to \", time=165.34086499999998), Lyric(text=\"an\", time=166.022683), Lyric(text=\"co\", time=166.36359199999998), Lyric(text=\"ra \", time=167.04541), Lyric(text=\"si \", time=167.386319), Lyric(text=\"\n",
       "  \", time=167.386319), Lyric(text=\"Can\", time=168.749955), Lyric(text=\"ta\", time=169.09086399999998), Lyric(text=\"re \", time=169.772682), Lyric(text=\"per \", time=170.795409), Lyric(text=\"non \", time=171.136318), Lyric(text=\"mo\", time=171.6476815), Lyric(text=\"ri\", time=171.81813599999998), Lyric(text=\"re \", time=172.499954), Lyric(text=\"\n",
       "  \", time=172.499954), Lyric(text=\"I\", time=174.204499), Lyric(text=\"llu\", time=174.54540799999998), Lyric(text=\"der\", time=175.0567715), Lyric(text=\"mi \", time=175.227226), Lyric(text=\"per \", time=176.249953), Lyric(text=\"non \", time=176.590862), Lyric(text=\"so\", time=177.1022255), Lyric(text=\"ffri\", time=177.27267999999998), Lyric(text=\"re \", time=177.954498), Lyric(text=\"\n",
       "  \", time=177.954498), Lyric(text=\"Pa\", time=179.659043), Lyric(text=\"ro\", time=179.99995199999998), Lyric(text=\"le, \", time=180.68177), Lyric(text=\"co\", time=182.386315), Lyric(text=\"lo\", time=182.727224), Lyric(text=\"re \", time=183.409042), Lyric(text=\"de\", time=184.77267799999998), Lyric(text=\"lla \", time=185.2840415), Lyric(text=\"vi\", time=185.454496), Lyric(text=\"ta \", time=186.136314), Lyric(text=\"\n",
       "  \", time=186.136314), Lyric(text=\"Sem\", time=187.159041), Lyric(text=\"pre \", time=187.32949549999998), Lyric(text=\"sem\", time=187.49994999999998), Lyric(text=\"pre \", time=187.72722266666665), Lyric(text=\"per \", time=187.9544953333333), Lyric(text=\"te \", time=188.181768), Lyric(text=\"\n",
       "  \", time=188.181768), Lyric(text=\"\n",
       "  \", time=188.181768), Lyric(text=\"##__Fe\", time=190.568131), Lyric(text=\"li\", time=190.90904), Lyric(text=\"ce_e \", time=191.249949), Lyric(text=\"so\", time=191.590858), Lyric(text=\"gna\", time=191.93176699999998), Lyric(text=\"re \", time=192.613585), Lyric(text=\"con \", time=193.295403), Lyric(text=\"te \", time=193.636312), Lyric(text=\"\n",
       "  \", time=193.636312), Lyric(text=\"Spe\", time=196.022675), Lyric(text=\"ran\", time=196.363584), Lyric(text=\"za \", time=196.70449299999999), Lyric(text=\"e \", time=197.045402), Lyric(text=\"na\", time=197.386311), Lyric(text=\"ta \", time=198.068129), Lyric(text=\"\n",
       "  \", time=198.068129), Lyric(text=\"Per \", time=198.749947), Lyric(text=\"ques\", time=199.090856), Lyric(text=\"to \", time=199.772674), Lyric(text=\"che \", time=200.113583), Lyric(text=\"\n",
       "  \", time=200.113583), Lyric(text=\"Il \", time=201.477219), Lyric(text=\"cie\", time=201.818128), Lyric(text=\"lo_e \", time=202.15903699999998), Lyric(text=\"co\", time=202.499946), Lyric(text=\"per\", time=202.840855), Lyric(text=\"to \", time=203.522673), Lyric(text=\"di \", time=204.204491), Lyric(text=\"ste\", time=204.5454), Lyric(text=\"lle \", time=205.227218), Lyric(text=\"\n",
       "  \", time=205.227218), Lyric(text=\"Ti \", time=206.931763), Lyric(text=\"guar\", time=207.272672), Lyric(text=\"do, \", time=207.61358099999998), Lyric(text=\"ti \", time=207.95449), Lyric(text=\"vo\", time=208.295399), Lyric(text=\"glio \", time=208.977217), Lyric(text=\"\n",
       "  \", time=208.977217), Lyric(text=\"Ti \", time=209.659035), Lyric(text=\"a\", time=209.999944), Lyric(text=\"m\", time=210.681762), Lyric(text=\"o \", time=211.022671), Lyric(text=\"\n",
       "  \", time=211.022671), Lyric(text=\"\n",
       "  \", time=211.022671), Lyric(text=\"Fe\", time=212.386307), Lyric(text=\"li\", time=212.727216), Lyric(text=\"ce_e \", time=213.06812499999998), Lyric(text=\"so\", time=213.409034), Lyric(text=\"gna\", time=213.749943), Lyric(text=\"re \", time=214.431761), Lyric(text=\"con \", time=215.113579), Lyric(text=\"te \", time=215.454488), Lyric(text=\"\n",
       "  \", time=215.454488), Lyric(text=\"Spe\", time=217.840851), Lyric(text=\"ran\", time=218.18176), Lyric(text=\"za \", time=218.52266899999998), Lyric(text=\"e \", time=218.863578), Lyric(text=\"na\", time=219.204487), Lyric(text=\"ta \", time=219.886305), Lyric(text=\"\n",
       "  \", time=219.886305), Lyric(text=\"Per \", time=220.56812299999999), Lyric(text=\"ques\", time=220.909032), Lyric(text=\"to \", time=221.59085), Lyric(text=\"che \", time=221.931759), Lyric(text=\"\n",
       "  \", time=221.931759), Lyric(text=\"Il \", time=223.29539499999998), Lyric(text=\"cie\", time=223.636304), Lyric(text=\"lo_e \", time=223.97721299999998), Lyric(text=\"co\", time=224.318122), Lyric(text=\"per\", time=224.659031), Lyric(text=\"to \", time=225.340849), Lyric(text=\"di \", time=226.02266699999998), Lyric(text=\"ste\", time=226.363576), Lyric(text=\"lle \", time=227.045394), Lyric(text=\"\n",
       "  \", time=227.045394), Lyric(text=\"Ti \", time=228.74993899999998), Lyric(text=\"guar\", time=229.090848), Lyric(text=\"do, \", time=229.431757), Lyric(text=\"ti \", time=229.772666), Lyric(text=\"vo\", time=230.113575), Lyric(text=\"glio \", time=230.795393), Lyric(text=\"\n",
       "  \", time=230.795393), Lyric(text=\"Ti \", time=231.47721099999998), Lyric(text=\"a\", time=231.81812), Lyric(text=\"m\", time=232.499938), Lyric(text=\"o \", time=232.840847), Lyric(text=\"\n",
       "  \", time=232.840847), Lyric(text=\"\n",
       "  \", time=232.840847), Lyric(text=\"\n",
       "  \", time=232.840847)],\n",
       " 'instruments': [Instrument(program=73, is_drum=False, name=\"Tormento D'amore\"),\n",
       "  Instrument(program=47, is_drum=False, name=\"Tormento D'amore\"),\n",
       "  Instrument(program=0, is_drum=False, name=\"Tormento D'amore\"),\n",
       "  Instrument(program=40, is_drum=False, name=\"Tormento D'amore\"),\n",
       "  Instrument(program=48, is_drum=False, name=\"Tormento D'amore\"),\n",
       "  Instrument(program=49, is_drum=False, name=\"Tormento D'amore\"),\n",
       "  Instrument(program=48, is_drum=False, name=\"Tormento D'amore\"),\n",
       "  Instrument(program=9, is_drum=False, name=\"Tormento D'amore\"),\n",
       "  Instrument(program=32, is_drum=False, name=\"Tormento D'amore\"),\n",
       "  Instrument(program=45, is_drum=False, name=\"Tormento D'amore\"),\n",
       "  Instrument(program=57, is_drum=False, name=\"Tormento D'amore\"),\n",
       "  Instrument(program=71, is_drum=False, name=\"Tormento D'amore\"),\n",
       "  Instrument(program=48, is_drum=True, name=\"Tormento D'amore\"),\n",
       "  Instrument(program=72, is_drum=False, name=\"Tormento D'amore\"),\n",
       "  Instrument(program=60, is_drum=False, name=\"Tormento D'amore\"),\n",
       "  Instrument(program=52, is_drum=False, name=\"Tormento D'amore\"),\n",
       "  Instrument(program=52, is_drum=False, name=\"Tormento D'amore\"),\n",
       "  Instrument(program=56, is_drum=False, name=\"Tormento D'amore\"),\n",
       "  Instrument(program=46, is_drum=False, name=\"Tormento D'amore\")]}"
      ]
     },
     "execution_count": 70,
     "metadata": {},
     "output_type": "execute_result"
    }
   ],
   "source": [
    "midi_data.__dict__"
   ]
  },
  {
   "cell_type": "code",
   "execution_count": 71,
   "metadata": {},
   "outputs": [
    {
     "data": {
      "text/plain": [
       "176"
      ]
     },
     "execution_count": 71,
     "metadata": {},
     "output_type": "execute_result"
    }
   ],
   "source": [
    "midi_data.time_to_tick(time=1)"
   ]
  },
  {
   "cell_type": "code",
   "execution_count": 102,
   "metadata": {},
   "outputs": [
    {
     "data": {
      "text/plain": [
       "array([[  0.,   0.,   0.,   0.,   0.,   0.,   0.,   0.,   0.,   0.,   0.,\n",
       "          0.,   0.,   0.,   0.],\n",
       "       [  0.,   0.,   0.,   0.,   0.,   0.,   0.,   0.,   0.,   0.,   0.,\n",
       "          0.,   0.,   0.,   0.],\n",
       "       [  0.,   0.,   0.,   0.,   0.,   0.,   0.,   0.,   0.,   0.,   0.,\n",
       "          0.,   0.,   0.,   0.],\n",
       "       [  0.,   0.,   0.,   0.,   0.,   0.,   0.,   0.,   0.,   0.,   0.,\n",
       "          0.,   0.,   0.,   0.],\n",
       "       [  0.,   0.,   0.,   0.,   0.,   0.,   0.,   0.,   0.,   0.,   0.,\n",
       "          0.,   0.,   0.,   0.],\n",
       "       [  0.,   0.,   0.,   0.,   0.,   0.,   0.,   0.,   0.,   0.,   0.,\n",
       "          0.,   0.,   0.,   0.],\n",
       "       [  0.,   0.,   0.,   0.,   0.,   0.,   0.,   0.,   0.,   0.,   0.,\n",
       "          0.,   0.,   0.,   0.],\n",
       "       [  0.,   0.,   0.,   0.,   0.,   0.,   0.,   0.,   0.,   0.,   0.,\n",
       "          0.,   0.,   0.,   0.],\n",
       "       [  0.,   0.,   0.,   0.,   0.,   0.,   0.,   0.,   0.,   0.,   0.,\n",
       "          0.,   0.,   0.,   0.],\n",
       "       [  0.,   0.,   0.,   0.,   0.,   0.,   0.,   0.,   0.,   0.,   0.,\n",
       "          0.,   0.,   0.,   0.],\n",
       "       [  0.,   0.,   0.,   0.,   0.,   0.,   0.,   0.,   0.,   0.,   0.,\n",
       "          0.,   0.,   0.,   0.],\n",
       "       [ 52.,  52.,  52.,  52.,  52.,  52.,  52.,  52.,  52.,  52.,  52.,\n",
       "         52.,  52.,  52.,  52.],\n",
       "       [  0.,   0.,   0.,   0.,   0.,   0.,   0.,   0.,   0.,   0.,   0.,\n",
       "          0.,   0.,   0.,   0.],\n",
       "       [  0.,   0.,   0.,   0.,   0.,   0.,   0.,   0.,   0.,   0.,   0.,\n",
       "          0.,   0.,   0.,   0.],\n",
       "       [  0.,   0.,   0.,   0.,   0.,   0.,   0.,   0.,   0.,   0.,   0.,\n",
       "          0.,   0.,   0.,   0.],\n",
       "       [  0.,   0.,   0.,   0.,   0.,   0.,   0.,   0.,   0.,   0.,   0.,\n",
       "          0.,   0.,   0.,   0.],\n",
       "       [  0.,   0.,   0.,   0.,   0.,   0.,   0.,   0.,   0.,   0.,   0.,\n",
       "          0.,   0.,   0.,   0.],\n",
       "       [  0.,   0.,   0.,   0.,   0.,   0.,   0.,   0.,   0.,   0.,   0.,\n",
       "          0.,   0.,   0.,   0.],\n",
       "       [138., 138., 138., 138., 138., 138., 138., 138., 138., 138., 138.,\n",
       "        138., 138., 138., 138.],\n",
       "       [  0.,   0.,   0.,   0.,   0.,   0.,   0.,   0.,   0.,   0.,   0.,\n",
       "          0.,   0.,   0.,   0.],\n",
       "       [  0.,   0.,   0.,   0.,   0.,   0.,   0.,   0.,   0.,   0.,   0.,\n",
       "          0.,   0.,   0.,   0.],\n",
       "       [  0.,   0.,   0.,   0.,   0.,   0.,   0.,   0.,   0.,   0.,   0.,\n",
       "          0.,   0.,   0.,   0.],\n",
       "       [  0.,   0.,   0.,   0.,   0.,   0.,   0.,   0.,   0.,   0.,   0.,\n",
       "          0.,   0.,   0.,   0.],\n",
       "       [ 59.,  59.,  59.,  59.,  59.,  59.,  59.,  59.,  59.,  59.,  59.,\n",
       "        146., 146., 146., 146.],\n",
       "       [  0.,   0.,   0.,   0.,   0.,   0.,   0.,   0.,   0.,   0.,   0.,\n",
       "          0.,   0.,   0.,   0.],\n",
       "       [  0.,   0.,   0.,   0.,   0.,   0.,   0.,   0.,   0.,   0.,   0.,\n",
       "          0.,   0.,   0.,   0.],\n",
       "       [  0.,   0.,   0.,   0.,   0.,   0.,   0.,   0.,   0.,   0.,   0.,\n",
       "          0.,   0.,   0.,   0.],\n",
       "       [125., 125., 125., 125., 125., 125., 125., 125., 125., 125., 125.,\n",
       "        125., 125., 125., 125.],\n",
       "       [  0.,   0.,   0.,   0.,   0.,   0.,   0.,   0.,   0.,   0.,   0.,\n",
       "          0.,   0.,   0.,   0.],\n",
       "       [  0.,   0.,   0.,   0.,   0.,   0.,   0.,   0.,   0.,   0.,   0.,\n",
       "          0.,   0.,   0.,   0.],\n",
       "       [  0.,   0.,   0.,   0.,   0.,   0.,   0.,   0.,   0.,   0.,   0.,\n",
       "          0.,   0.,   0.,   0.],\n",
       "       [  0.,   0.,   0.,   0.,   0.,   0.,   0.,   0.,   0.,   0.,   0.,\n",
       "          0.,   0.,   0.,   0.],\n",
       "       [  0.,   0.,   0.,   0.,   0.,   0.,   0.,   0.,   0.,   0.,   0.,\n",
       "          0.,   0.,   0.,   0.],\n",
       "       [  0.,   0.,   0.,   0.,   0.,   0.,   0.,   0.,   0.,   0.,   0.,\n",
       "          0.,   0.,   0.,   0.],\n",
       "       [  0.,   0.,   0.,   0.,   0.,   0.,   0.,   0.,   0.,   0.,   0.,\n",
       "          0.,   0.,   0.,   0.],\n",
       "       [  0.,   0.,   0.,   0.,   0.,   0.,   0.,   0.,   0.,   0.,   0.,\n",
       "          0.,   0.,   0.,   0.],\n",
       "       [  0.,   0.,   0.,   0.,   0.,   0.,   0.,   0.,   0.,   0.,   0.,\n",
       "          0.,   0.,   0.,   0.],\n",
       "       [  0.,   0.,   0.,   0.,   0.,   0.,   0.,   0.,   0.,   0.,   0.,\n",
       "          0.,   0.,   0.,   0.],\n",
       "       [  0.,   0.,   0.,   0.,   0.,   0.,   0.,   0.,   0.,   0.,   0.,\n",
       "          0.,   0.,   0.,   0.],\n",
       "       [  0.,   0.,   0.,   0.,   0.,   0.,   0.,   0.,   0.,   0.,   0.,\n",
       "          0.,   0.,   0.,   0.],\n",
       "       [  0.,   0.,   0.,   0.,   0.,   0.,   0.,   0.,   0.,   0.,   0.,\n",
       "          0.,   0.,   0.,   0.],\n",
       "       [  0.,   0.,   0.,   0.,   0.,   0.,   0.,   0.,   0.,   0.,   0.,\n",
       "          0.,   0.,   0.,   0.],\n",
       "       [  0.,   0.,   0.,   0.,   0.,   0.,   0.,   0.,   0.,   0.,   0.,\n",
       "          0.,   0.,   0.,   0.],\n",
       "       [  0.,   0.,   0.,   0.,   0.,   0.,   0.,   0.,   0.,   0.,   0.,\n",
       "          0.,   0.,   0.,   0.],\n",
       "       [  0.,   0.,   0.,   0.,   0.,   0.,   0.,   0.,   0.,   0.,   0.,\n",
       "          0.,   0.,   0.,   0.],\n",
       "       [  0.,   0.,   0.,   0.,   0.,   0.,   0.,   0.,   0.,   0.,   0.,\n",
       "          0.,   0.,   0.,   0.],\n",
       "       [  0.,   0.,   0.,   0.,   0.,   0.,   0.,   0.,   0.,   0.,   0.,\n",
       "          0.,   0.,   0.,   0.],\n",
       "       [  0.,   0.,   0.,   0.,   0.,   0.,   0.,   0.,   0.,   0.,   0.,\n",
       "          0.,   0.,   0.,   0.],\n",
       "       [  0.,   0.,   0.,   0.,   0.,   0.,   0.,   0.,   0.,   0.,   0.,\n",
       "          0.,   0.,   0.,   0.],\n",
       "       [  0.,   0.,   0.,   0.,   0.,   0.,   0.,   0.,   0.,   0.,   0.,\n",
       "          0.,   0.,   0.,   0.],\n",
       "       [  0.,   0.,   0.,   0.,   0.,   0.,   0.,   0.,   0.,   0.,   0.,\n",
       "          0.,   0.,   0.,   0.],\n",
       "       [  0.,   0.,   0.,   0.,   0.,   0.,   0.,   0.,   0.,   0.,   0.,\n",
       "          0.,   0.,   0.,   0.],\n",
       "       [  0.,   0.,   0.,   0.,   0.,   0.,   0.,   0.,   0.,   0.,   0.,\n",
       "          0.,   0.,   0.,   0.],\n",
       "       [  0.,   0.,   0.,   0.,   0.,   0.,   0.,   0.,   0.,   0.,   0.,\n",
       "          0.,   0.,   0.,   0.],\n",
       "       [  0.,   0.,   0.,   0.,   0.,   0.,   0.,   0.,   0.,   0.,   0.,\n",
       "          0.,   0.,   0.,   0.],\n",
       "       [  0.,   0.,   0.,   0.,   0.,   0.,   0.,   0.,   0.,   0.,   0.,\n",
       "          0.,   0.,   0.,   0.],\n",
       "       [  0.,   0.,   0.,   0.,   0.,   0.,   0.,   0.,   0.,   0.,   0.,\n",
       "          0.,   0.,   0.,   0.],\n",
       "       [  0.,   0.,   0.,   0.,   0.,   0.,   0.,   0.,   0.,   0.,   0.,\n",
       "          0.,   0.,   0.,   0.],\n",
       "       [  0.,   0.,   0.,   0.,   0.,   0.,   0.,   0.,   0.,   0.,   0.,\n",
       "          0.,   0.,   0.,   0.],\n",
       "       [  0.,   0.,   0.,   0.,   0.,   0.,   0.,   0.,   0.,   0.,   0.,\n",
       "          0.,   0.,   0.,   0.]])"
      ]
     },
     "execution_count": 102,
     "metadata": {},
     "output_type": "execute_result"
    }
   ],
   "source": [
    "midi_data.get_piano_roll()[30:90,2000:2015]"
   ]
  },
  {
   "cell_type": "markdown",
   "metadata": {},
   "source": [
    "# Playing Midi File in Python"
   ]
  },
  {
   "cell_type": "code",
   "execution_count": 88,
   "metadata": {},
   "outputs": [],
   "source": [
    "pygame.mixer.init()\n",
    "pygame.mixer.music.load(data_dir+\"midi_files/\"+ track_id + \"/\" + midi_id)\n",
    "pygame.mixer.music.play()"
   ]
  },
  {
   "cell_type": "code",
   "execution_count": 90,
   "metadata": {},
   "outputs": [],
   "source": [
    "pygame.mixer.music.stop()"
   ]
  },
  {
   "cell_type": "markdown",
   "metadata": {},
   "source": [
    "# Plotting"
   ]
  },
  {
   "cell_type": "code",
   "execution_count": null,
   "metadata": {},
   "outputs": [],
   "source": []
  }
 ],
 "metadata": {
  "kernelspec": {
   "display_name": "Python 3",
   "language": "python",
   "name": "python3"
  },
  "language_info": {
   "codemirror_mode": {
    "name": "ipython",
    "version": 3
   },
   "file_extension": ".py",
   "mimetype": "text/x-python",
   "name": "python",
   "nbconvert_exporter": "python",
   "pygments_lexer": "ipython3",
   "version": "3.7.4"
  }
 },
 "nbformat": 4,
 "nbformat_minor": 2
}
