{
 "cells": [
  {
   "cell_type": "code",
   "execution_count": 264,
   "metadata": {},
   "outputs": [],
   "source": [
    "import pandas as pd\n",
    "import numpy as np\n",
    "\n",
    "import os\n",
    "\n",
    "import pypianoroll\n",
    "\n",
    "import pygame\n",
    "\n",
    "from matplotlib import pyplot as plt"
   ]
  },
  {
   "cell_type": "code",
   "execution_count": 15,
   "metadata": {},
   "outputs": [],
   "source": [
    "# Directories:\n",
    "\n",
    "data_dir = \"/Users/chrisolen/Documents/uchicago_courses/deep_learning_and_image_recognition/audio_generation/data/\"\n",
    "scripts_dir = \"/Users/chrisolen/Documents/uchicago_courses/deep_learning_and_image_recognition/audio_generation/NADE_music_generation/\""
   ]
  },
  {
   "cell_type": "markdown",
   "metadata": {},
   "source": [
    "# Read In Track Metadata"
   ]
  },
  {
   "cell_type": "code",
   "execution_count": 16,
   "metadata": {},
   "outputs": [],
   "source": [
    "# Read in track metadata:\n",
    "\n",
    "track_metadata = pd.read_csv(scripts_dir+\"data_cleaning_scripts/track_metadata.csv\",\n",
    "                            index_col='Unnamed: 0')"
   ]
  },
  {
   "cell_type": "code",
   "execution_count": 17,
   "metadata": {},
   "outputs": [
    {
     "data": {
      "text/html": [
       "<div>\n",
       "<style scoped>\n",
       "    .dataframe tbody tr th:only-of-type {\n",
       "        vertical-align: middle;\n",
       "    }\n",
       "\n",
       "    .dataframe tbody tr th {\n",
       "        vertical-align: top;\n",
       "    }\n",
       "\n",
       "    .dataframe thead th {\n",
       "        text-align: right;\n",
       "    }\n",
       "</style>\n",
       "<table border=\"1\" class=\"dataframe\">\n",
       "  <thead>\n",
       "    <tr style=\"text-align: right;\">\n",
       "      <th></th>\n",
       "      <th>track_id</th>\n",
       "      <th>mb_id</th>\n",
       "      <th>artist</th>\n",
       "      <th>song_title</th>\n",
       "      <th>sp_track_id</th>\n",
       "      <th>sp_artist_id</th>\n",
       "      <th>time_sig</th>\n",
       "      <th>tempo</th>\n",
       "      <th>energy</th>\n",
       "      <th>loudness</th>\n",
       "      <th>speechiness</th>\n",
       "      <th>acousticness</th>\n",
       "      <th>instrumentalness</th>\n",
       "      <th>genre</th>\n",
       "    </tr>\n",
       "  </thead>\n",
       "  <tbody>\n",
       "    <tr>\n",
       "      <td>0</td>\n",
       "      <td>TRBQUUS12903CB2580</td>\n",
       "      <td>7b28fb58-882b-4907-856e-ef327b624b11</td>\n",
       "      <td>+ / - {Plus/Minus}</td>\n",
       "      <td>Flight Data Recorder</td>\n",
       "      <td>5aXSB4ywBWcPVBuOqxJAsZ</td>\n",
       "      <td>4j4NbPKY5EnsEUhdNICINb</td>\n",
       "      <td>3.0</td>\n",
       "      <td>108.021</td>\n",
       "      <td>0.584</td>\n",
       "      <td>-9.032</td>\n",
       "      <td>0.0270</td>\n",
       "      <td>0.00184</td>\n",
       "      <td>0.15500</td>\n",
       "      <td>[]</td>\n",
       "    </tr>\n",
       "    <tr>\n",
       "      <td>1</td>\n",
       "      <td>TRRXTJI12903D01048</td>\n",
       "      <td>6bd4eaa7-aa1c-4138-a392-41693229c7fc</td>\n",
       "      <td>+39</td>\n",
       "      <td>My Relax</td>\n",
       "      <td>2j7kfbjTPqpaYHide0hFxi</td>\n",
       "      <td>5Cicr7PrzTNv4bXiZntlex</td>\n",
       "      <td>4.0</td>\n",
       "      <td>119.997</td>\n",
       "      <td>0.553</td>\n",
       "      <td>-7.488</td>\n",
       "      <td>0.2160</td>\n",
       "      <td>0.00514</td>\n",
       "      <td>0.86900</td>\n",
       "      <td>[]</td>\n",
       "    </tr>\n",
       "    <tr>\n",
       "      <td>2</td>\n",
       "      <td>TRMKKFV12903CB7EA4</td>\n",
       "      <td>NaN</td>\n",
       "      <td>...arrived at ten</td>\n",
       "      <td>Flake</td>\n",
       "      <td>1T3zWGYGHIAX36IHYHL9Ar</td>\n",
       "      <td>49myFlNbBmL4X25pekwLqR</td>\n",
       "      <td>4.0</td>\n",
       "      <td>106.003</td>\n",
       "      <td>0.437</td>\n",
       "      <td>-12.814</td>\n",
       "      <td>0.0261</td>\n",
       "      <td>0.91300</td>\n",
       "      <td>0.88100</td>\n",
       "      <td>[]</td>\n",
       "    </tr>\n",
       "    <tr>\n",
       "      <td>3</td>\n",
       "      <td>TRNVJXQ128F14AFD63</td>\n",
       "      <td>2fc659fa-293f-4288-bff5-29447f31f628</td>\n",
       "      <td>1. Futurologischer Congress</td>\n",
       "      <td>Atem</td>\n",
       "      <td>6bsV04oYvnEEh2tmMzbuE3</td>\n",
       "      <td>6MD8yUEX0V8XJR2Xrwz0HO</td>\n",
       "      <td>4.0</td>\n",
       "      <td>136.250</td>\n",
       "      <td>0.883</td>\n",
       "      <td>-7.470</td>\n",
       "      <td>0.0513</td>\n",
       "      <td>0.03660</td>\n",
       "      <td>0.00704</td>\n",
       "      <td>['neue deutsche welle']</td>\n",
       "    </tr>\n",
       "    <tr>\n",
       "      <td>4</td>\n",
       "      <td>TRLIEDO12903CA41B4</td>\n",
       "      <td>f37c537b-3557-4031-bfd6-ab63ced32854</td>\n",
       "      <td>10 CC</td>\n",
       "      <td>The Things We Do For Love</td>\n",
       "      <td>NaN</td>\n",
       "      <td>NaN</td>\n",
       "      <td>NaN</td>\n",
       "      <td>NaN</td>\n",
       "      <td>NaN</td>\n",
       "      <td>NaN</td>\n",
       "      <td>NaN</td>\n",
       "      <td>NaN</td>\n",
       "      <td>NaN</td>\n",
       "      <td>['nan']</td>\n",
       "    </tr>\n",
       "  </tbody>\n",
       "</table>\n",
       "</div>"
      ],
      "text/plain": [
       "             track_id                                 mb_id  \\\n",
       "0  TRBQUUS12903CB2580  7b28fb58-882b-4907-856e-ef327b624b11   \n",
       "1  TRRXTJI12903D01048  6bd4eaa7-aa1c-4138-a392-41693229c7fc   \n",
       "2  TRMKKFV12903CB7EA4                                   NaN   \n",
       "3  TRNVJXQ128F14AFD63  2fc659fa-293f-4288-bff5-29447f31f628   \n",
       "4  TRLIEDO12903CA41B4  f37c537b-3557-4031-bfd6-ab63ced32854   \n",
       "\n",
       "                        artist                 song_title  \\\n",
       "0           + / - {Plus/Minus}       Flight Data Recorder   \n",
       "1                          +39                   My Relax   \n",
       "2            ...arrived at ten                      Flake   \n",
       "3  1. Futurologischer Congress                       Atem   \n",
       "4                        10 CC  The Things We Do For Love   \n",
       "\n",
       "              sp_track_id            sp_artist_id  time_sig    tempo  energy  \\\n",
       "0  5aXSB4ywBWcPVBuOqxJAsZ  4j4NbPKY5EnsEUhdNICINb       3.0  108.021   0.584   \n",
       "1  2j7kfbjTPqpaYHide0hFxi  5Cicr7PrzTNv4bXiZntlex       4.0  119.997   0.553   \n",
       "2  1T3zWGYGHIAX36IHYHL9Ar  49myFlNbBmL4X25pekwLqR       4.0  106.003   0.437   \n",
       "3  6bsV04oYvnEEh2tmMzbuE3  6MD8yUEX0V8XJR2Xrwz0HO       4.0  136.250   0.883   \n",
       "4                     NaN                     NaN       NaN      NaN     NaN   \n",
       "\n",
       "   loudness  speechiness  acousticness  instrumentalness  \\\n",
       "0    -9.032       0.0270       0.00184           0.15500   \n",
       "1    -7.488       0.2160       0.00514           0.86900   \n",
       "2   -12.814       0.0261       0.91300           0.88100   \n",
       "3    -7.470       0.0513       0.03660           0.00704   \n",
       "4       NaN          NaN           NaN               NaN   \n",
       "\n",
       "                     genre  \n",
       "0                       []  \n",
       "1                       []  \n",
       "2                       []  \n",
       "3  ['neue deutsche welle']  \n",
       "4                  ['nan']  "
      ]
     },
     "execution_count": 17,
     "metadata": {},
     "output_type": "execute_result"
    }
   ],
   "source": [
    "track_metadata.head()"
   ]
  },
  {
   "cell_type": "code",
   "execution_count": 18,
   "metadata": {},
   "outputs": [
    {
     "data": {
      "text/plain": [
       "(31032, 14)"
      ]
     },
     "execution_count": 18,
     "metadata": {},
     "output_type": "execute_result"
    }
   ],
   "source": [
    "track_metadata.shape"
   ]
  },
  {
   "cell_type": "markdown",
   "metadata": {},
   "source": [
    "# Read in Midi Files"
   ]
  },
  {
   "cell_type": "code",
   "execution_count": 408,
   "metadata": {},
   "outputs": [],
   "source": [
    "# Locate desired track_id from metadata:\n",
    "\n",
    "track_id = track_metadata.iloc[1000,0]"
   ]
  },
  {
   "cell_type": "code",
   "execution_count": 409,
   "metadata": {},
   "outputs": [],
   "source": [
    "# Find the corresponding midi file:\n",
    "\n",
    "midi_id = os.listdir(data_dir+\"midi_files/\"+ track_id)[0]"
   ]
  },
  {
   "cell_type": "code",
   "execution_count": 410,
   "metadata": {},
   "outputs": [],
   "source": [
    "# Load in the full path:\n",
    "\n",
    "mid = pypianoroll.Multitrack(data_dir+\"midi_files/\"+ track_id + \"/\" + midi_id)"
   ]
  },
  {
   "cell_type": "code",
   "execution_count": 411,
   "metadata": {},
   "outputs": [
    {
     "data": {
      "text/plain": [
       "False"
      ]
     },
     "execution_count": 411,
     "metadata": {},
     "output_type": "execute_result"
    }
   ],
   "source": [
    "# Is it binarized?\n",
    "\n",
    "mid.is_binarized()"
   ]
  },
  {
   "cell_type": "code",
   "execution_count": 412,
   "metadata": {},
   "outputs": [],
   "source": [
    "# Binarize:\n",
    "\n",
    "mid.binarize()"
   ]
  },
  {
   "cell_type": "code",
   "execution_count": 413,
   "metadata": {},
   "outputs": [],
   "source": [
    "# Store binarized int pianoroll as separate object:\n",
    "\n",
    "roll = mid.get_stacked_pianoroll().astype(int)"
   ]
  },
  {
   "cell_type": "code",
   "execution_count": 414,
   "metadata": {},
   "outputs": [],
   "source": [
    "# Multitrack object metadata:\n",
    "\n",
    "instrumentation = [mid.tracks[i].program for i in range(len(mid.tracks))]\n",
    "\n",
    "unique, counts = np.unique(mid.tempo, return_counts=True)\n",
    "tempo = dict(zip(unique, counts))\n",
    "\n",
    "beat_res = mid.beat_resolution # number of time steps per beat\n",
    "\n",
    "active_length = mid.get_active_length() # number of time steps where there's some activity\n",
    "\n",
    "pitch_range = mid.get_active_pitch_range()"
   ]
  },
  {
   "cell_type": "code",
   "execution_count": 415,
   "metadata": {},
   "outputs": [],
   "source": [
    "# Pianoroll object metadata (for one voice):\n",
    "\n",
    "empty_beat_rate = pypianoroll.metrics.empty_beat_rate(roll[:,:,0], beat_res) # Ratio of empty beats to the total number of beats\n",
    "\n",
    "num_pitches_used = pypianoroll.metrics.n_pitches_used(roll[:,:,0])"
   ]
  },
  {
   "cell_type": "code",
   "execution_count": 421,
   "metadata": {},
   "outputs": [],
   "source": [
    "# Write multitrack pianroll to a MIDI file:\n",
    "\n",
    "mid.write(scripts_dir + \"modeling_scripts/\"+\"test_midi\")\n"
   ]
  },
  {
   "cell_type": "code",
   "execution_count": null,
   "metadata": {},
   "outputs": [],
   "source": []
  },
  {
   "cell_type": "code",
   "execution_count": null,
   "metadata": {},
   "outputs": [],
   "source": []
  },
  {
   "cell_type": "code",
   "execution_count": null,
   "metadata": {},
   "outputs": [],
   "source": []
  },
  {
   "cell_type": "code",
   "execution_count": null,
   "metadata": {},
   "outputs": [],
   "source": []
  },
  {
   "cell_type": "code",
   "execution_count": null,
   "metadata": {},
   "outputs": [],
   "source": []
  },
  {
   "cell_type": "code",
   "execution_count": null,
   "metadata": {},
   "outputs": [],
   "source": []
  },
  {
   "cell_type": "code",
   "execution_count": null,
   "metadata": {},
   "outputs": [],
   "source": []
  },
  {
   "cell_type": "code",
   "execution_count": null,
   "metadata": {},
   "outputs": [],
   "source": []
  },
  {
   "cell_type": "code",
   "execution_count": null,
   "metadata": {},
   "outputs": [],
   "source": []
  },
  {
   "cell_type": "code",
   "execution_count": null,
   "metadata": {},
   "outputs": [],
   "source": []
  },
  {
   "cell_type": "markdown",
   "metadata": {},
   "source": [
    "# Playing Midi File in Python"
   ]
  },
  {
   "cell_type": "code",
   "execution_count": 88,
   "metadata": {},
   "outputs": [],
   "source": [
    "pygame.mixer.init()\n",
    "pygame.mixer.music.load(data_dir+\"midi_files/\"+ track_id + \"/\" + midi_id)\n",
    "pygame.mixer.music.play()"
   ]
  },
  {
   "cell_type": "code",
   "execution_count": 90,
   "metadata": {},
   "outputs": [],
   "source": [
    "pygame.mixer.music.stop()"
   ]
  },
  {
   "cell_type": "markdown",
   "metadata": {},
   "source": [
    "# Plotting"
   ]
  },
  {
   "cell_type": "code",
   "execution_count": 113,
   "metadata": {},
   "outputs": [
    {
     "name": "stdout",
     "output_type": "stream",
     "text": [
      "Help on function plot_pianoroll in module pypianoroll.plot:\n",
      "\n",
      "plot_pianoroll(ax, pianoroll, is_drum=False, beat_resolution=None, downbeats=None, preset='default', cmap='Blues', xtick='auto', ytick='octave', xticklabel=True, yticklabel='auto', tick_loc=None, tick_direction='in', label='both', grid='both', grid_linestyle=':', grid_linewidth=0.5)\n",
      "    Plot a pianoroll given as a numpy array.\n",
      "    \n",
      "    Parameters\n",
      "    ----------\n",
      "    ax : matplotlib.axes.Axes object\n",
      "        A :class:`matplotlib.axes.Axes` object where the pianoroll will be\n",
      "        plotted on.\n",
      "    pianoroll : np.ndarray\n",
      "        A pianoroll to be plotted. The values should be in [0, 1] when data\n",
      "        type is float, and in [0, 127] when data type is integer.\n",
      "    \n",
      "        - For a 2D array, shape=(num_time_step, num_pitch).\n",
      "        - For a 3D array, shape=(num_time_step, num_pitch, num_channel),\n",
      "          where channels can be either RGB or RGBA.\n",
      "    \n",
      "    is_drum : bool\n",
      "        A boolean number that indicates whether it is a percussion track.\n",
      "            Defaults to False.\n",
      "    beat_resolution : int\n",
      "        The number of time steps used to represent a beat. Required and only\n",
      "        effective when `xtick` is 'beat'.\n",
      "    downbeats : list\n",
      "        An array that indicates whether the time step contains a downbeat\n",
      "        (i.e., the first time step of a bar).\n",
      "    preset : {'default', 'plain', 'frame'}\n",
      "        A string that indicates the preset theme to use.\n",
      "    \n",
      "        - In 'default' preset, the ticks, grid and labels are on.\n",
      "        - In 'frame' preset, the ticks and grid are both off.\n",
      "        - In 'plain' preset, the x- and y-axis are both off.\n",
      "    \n",
      "    cmap :  `matplotlib.colors.Colormap`\n",
      "        The colormap to use in :func:`matplotlib.pyplot.imshow`. Defaults to\n",
      "        'Blues'. Only effective when `pianoroll` is 2D.\n",
      "    xtick : {'auto', 'beat', 'step', 'off'}\n",
      "        A string that indicates what to use as ticks along the x-axis. If\n",
      "        'auto' is given, automatically set to 'beat' if `beat_resolution` is\n",
      "        also given and set to 'step', otherwise. Defaults to 'auto'.\n",
      "    ytick : {'octave', 'pitch', 'off'}\n",
      "        A string that indicates what to use as ticks along the y-axis.\n",
      "        Defaults to 'octave'.\n",
      "    xticklabel : bool\n",
      "        Whether to add tick labels along the x-axis. Only effective when\n",
      "        `xtick` is not 'off'.\n",
      "    yticklabel : {'auto', 'name', 'number', 'off'}\n",
      "        If 'name', use octave name and pitch name (key name when `is_drum`\n",
      "        is True) as tick labels along the y-axis. If 'number', use pitch\n",
      "        number. If 'auto', set to 'name' when `ytick` is 'octave' and\n",
      "        'number' when `ytick` is 'pitch'. Defaults to 'auto'. Only effective\n",
      "        when `ytick` is not 'off'.\n",
      "    tick_loc : tuple or list\n",
      "        The locations to put the ticks. Availables elements are 'bottom',\n",
      "        'top', 'left' and 'right'. Defaults to ('bottom', 'left').\n",
      "    tick_direction : {'in', 'out', 'inout'}\n",
      "        A string that indicates where to put the ticks. Defaults to 'in'.\n",
      "        Only effective when one of `xtick` and `ytick` is on.\n",
      "    label : {'x', 'y', 'both', 'off'}\n",
      "        A string that indicates whether to add labels to the x-axis and\n",
      "        y-axis. Defaults to 'both'.\n",
      "    grid : {'x', 'y', 'both', 'off'}\n",
      "        A string that indicates whether to add grids to the x-axis, y-axis,\n",
      "        both or neither. Defaults to 'both'.\n",
      "    grid_linestyle : str\n",
      "        Will be passed to :meth:`matplotlib.axes.Axes.grid` as 'linestyle'\n",
      "        argument.\n",
      "    grid_linewidth : float\n",
      "        Will be passed to :meth:`matplotlib.axes.Axes.grid` as 'linewidth'\n",
      "        argument.\n",
      "\n"
     ]
    }
   ],
   "source": [
    "help(plot_pianoroll)"
   ]
  },
  {
   "cell_type": "code",
   "execution_count": 118,
   "metadata": {},
   "outputs": [
    {
     "ename": "ValueError",
     "evalue": "The length of the second axis of `pianoroll` must be 128.",
     "output_type": "error",
     "traceback": [
      "\u001b[0;31m---------------------------------------------------------------------------\u001b[0m",
      "\u001b[0;31mValueError\u001b[0m                                Traceback (most recent call last)",
      "\u001b[0;32m<ipython-input-118-a720c8863263>\u001b[0m in \u001b[0;36m<module>\u001b[0;34m\u001b[0m\n\u001b[1;32m      2\u001b[0m \u001b[0max\u001b[0m \u001b[0;34m=\u001b[0m \u001b[0mfig\u001b[0m\u001b[0;34m.\u001b[0m\u001b[0madd_subplot\u001b[0m\u001b[0;34m(\u001b[0m\u001b[0;36m2\u001b[0m\u001b[0;34m,\u001b[0m \u001b[0;36m128\u001b[0m\u001b[0;34m,\u001b[0m \u001b[0;36m1\u001b[0m\u001b[0;34m)\u001b[0m\u001b[0;34m\u001b[0m\u001b[0;34m\u001b[0m\u001b[0m\n\u001b[1;32m      3\u001b[0m \u001b[0;34m\u001b[0m\u001b[0m\n\u001b[0;32m----> 4\u001b[0;31m \u001b[0mplot_pianoroll\u001b[0m\u001b[0;34m(\u001b[0m\u001b[0max\u001b[0m\u001b[0;34m=\u001b[0m\u001b[0max\u001b[0m\u001b[0;34m,\u001b[0m\u001b[0mpianoroll\u001b[0m\u001b[0;34m=\u001b[0m\u001b[0mmid\u001b[0m\u001b[0;34m.\u001b[0m\u001b[0mget_stacked_pianoroll\u001b[0m\u001b[0;34m(\u001b[0m\u001b[0;34m)\u001b[0m\u001b[0;34m[\u001b[0m\u001b[0;36m0\u001b[0m\u001b[0;34m]\u001b[0m\u001b[0;34m)\u001b[0m\u001b[0;34m\u001b[0m\u001b[0;34m\u001b[0m\u001b[0m\n\u001b[0m",
      "\u001b[0;32m~/anaconda3/lib/python3.7/site-packages/pypianoroll/plot.py\u001b[0m in \u001b[0;36mplot_pianoroll\u001b[0;34m(ax, pianoroll, is_drum, beat_resolution, downbeats, preset, cmap, xtick, ytick, xticklabel, yticklabel, tick_loc, tick_direction, label, grid, grid_linestyle, grid_linewidth)\u001b[0m\n\u001b[1;32m    104\u001b[0m         \u001b[0;32mraise\u001b[0m \u001b[0mValueError\u001b[0m\u001b[0;34m(\u001b[0m\u001b[0;34m\"`pianoroll` must be a 2D or 3D numpy array\"\u001b[0m\u001b[0;34m)\u001b[0m\u001b[0;34m\u001b[0m\u001b[0;34m\u001b[0m\u001b[0m\n\u001b[1;32m    105\u001b[0m     \u001b[0;32mif\u001b[0m \u001b[0mpianoroll\u001b[0m\u001b[0;34m.\u001b[0m\u001b[0mshape\u001b[0m\u001b[0;34m[\u001b[0m\u001b[0;36m1\u001b[0m\u001b[0;34m]\u001b[0m \u001b[0;34m!=\u001b[0m \u001b[0;36m128\u001b[0m\u001b[0;34m:\u001b[0m\u001b[0;34m\u001b[0m\u001b[0;34m\u001b[0m\u001b[0m\n\u001b[0;32m--> 106\u001b[0;31m         raise ValueError(\"The length of the second axis of `pianoroll` \"\n\u001b[0m\u001b[1;32m    107\u001b[0m                          \"must be 128.\")\n\u001b[1;32m    108\u001b[0m     \u001b[0;32mif\u001b[0m \u001b[0mxtick\u001b[0m \u001b[0;32mnot\u001b[0m \u001b[0;32min\u001b[0m \u001b[0;34m(\u001b[0m\u001b[0;34m'auto'\u001b[0m\u001b[0;34m,\u001b[0m \u001b[0;34m'beat'\u001b[0m\u001b[0;34m,\u001b[0m \u001b[0;34m'step'\u001b[0m\u001b[0;34m,\u001b[0m \u001b[0;34m'off'\u001b[0m\u001b[0;34m)\u001b[0m\u001b[0;34m:\u001b[0m\u001b[0;34m\u001b[0m\u001b[0;34m\u001b[0m\u001b[0m\n",
      "\u001b[0;31mValueError\u001b[0m: The length of the second axis of `pianoroll` must be 128."
     ]
    },
    {
     "data": {
      "image/png": "[encoded data removed]",
      "text/plain": [
       "<Figure size 432x288 with 1 Axes>"
      ]
     },
     "metadata": {
      "needs_background": "light"
     },
     "output_type": "display_data"
    }
   ],
   "source": [
    "fig = plt.figure()\n",
    "ax = fig.add_subplot(2, 128, 1) \n",
    "\n",
    "plot_pianoroll(ax=ax,pianoroll=mid.get_stacked_pianoroll()[0])"
   ]
  },
  {
   "cell_type": "code",
   "execution_count": null,
   "metadata": {},
   "outputs": [],
   "source": []
  }
 ],
 "metadata": {
  "kernelspec": {
   "display_name": "Python 3",
   "language": "python",
   "name": "python3"
  },
  "language_info": {
   "codemirror_mode": {
    "name": "ipython",
    "version": 3
   },
   "file_extension": ".py",
   "mimetype": "text/x-python",
   "name": "python",
   "nbconvert_exporter": "python",
   "pygments_lexer": "ipython3",
   "version": "3.7.4"
  }
 },
 "nbformat": 4,
 "nbformat_minor": 2
}
